{
  "nbformat": 4,
  "nbformat_minor": 0,
  "metadata": {
    "colab": {
      "name": "Atividade_4.ipynb",
      "provenance": [],
      "collapsed_sections": [],
      "toc_visible": true
    },
    "kernelspec": {
      "name": "python3",
      "display_name": "Python 3"
    },
    "accelerator": "GPU"
  },
  "cells": [
    {
      "cell_type": "markdown",
      "source": [
        "Aluno: Bruno Ricardo Pereira dos Santos Santos \n",
        "\n",
        "Nº USP: 10288640"
      ],
      "metadata": {
        "id": "hFotDtRiST4N"
      }
    },
    {
      "cell_type": "code",
      "metadata": {
        "id": "HsH8XysvhZeS"
      },
      "source": [
        "import sys\n",
        "import os\n",
        "import IPython\n",
        "import math\n",
        "import numpy as np\n",
        "import pandas as pd\n",
        "import pickle\n",
        "import matplotlib.pyplot as plt\n",
        "%matplotlib inline\n",
        "\n",
        "import random\n",
        "from datetime import datetime\n",
        "\n",
        "from keras import backend as keras_backend\n",
        "from keras.models import Sequential, load_model\n",
        "from keras.layers import Dense, Dropout, Flatten, LeakyReLU, SpatialDropout2D, Activation, Conv2D, MaxPooling2D, BatchNormalization, GlobalAveragePooling2D\n",
        "#from keras.optimizers import Adam\n",
        "from tensorflow.keras.optimizers import Adam\n",
        "#from tensorflow.keras.utils import np_utils, to_categorical, plot_model\n",
        "from tensorflow.keras.callbacks import ModelCheckpoint \n",
        "from tensorflow.keras.regularizers import l2\n",
        "\n",
        "from sklearn.preprocessing import LabelEncoder\n",
        "from sklearn.model_selection import train_test_split\n",
        "from sklearn.metrics import classification_report, precision_recall_fscore_support, confusion_matrix"
      ],
      "execution_count": null,
      "outputs": []
    },
    {
      "cell_type": "code",
      "metadata": {
        "id": "jbIZR-h8ikUC",
        "outputId": "ca002e73-7b31-4512-8198-b139e2226cb0",
        "colab": {
          "base_uri": "https://localhost:8080/"
        }
      },
      "source": [
        "!git clone https://github.com/karolpiczak/ESC-50"
      ],
      "execution_count": null,
      "outputs": [
        {
          "output_type": "stream",
          "name": "stdout",
          "text": [
            "Cloning into 'ESC-50'...\n",
            "remote: Enumerating objects: 4157, done.\u001b[K\n",
            "remote: Counting objects: 100% (21/21), done.\u001b[K\n",
            "remote: Compressing objects: 100% (21/21), done.\u001b[K\n",
            "remote: Total 4157 (delta 12), reused 0 (delta 0), pack-reused 4136\u001b[K\n",
            "Receiving objects: 100% (4157/4157), 878.78 MiB | 21.46 MiB/s, done.\n",
            "Resolving deltas: 100% (259/259), done.\n",
            "Checking out files: 100% (2011/2011), done.\n"
          ]
        }
      ]
    },
    {
      "cell_type": "markdown",
      "source": [
        "# Problema\n",
        "\n",
        "Peguei dados da base acima e selecionei duas classes,  breathing e snoring. Achei interessante essas duas classes pois há vários aplicativos de celular para monitoramento de sono que indicam se a pessoa ronca ou não e quero verificar se esses apps conseguem realmente classificar corretamente. Sendo assim, importei os dados, os transformei e extraí padrões usando modelos de machine learning e CNN."
      ],
      "metadata": {
        "id": "kxMC02pw4FV_"
      }
    },
    {
      "cell_type": "markdown",
      "source": [
        "# Obtenção e processamento dos dados"
      ],
      "metadata": {
        "id": "k_DJ3AAT7BqI"
      }
    },
    {
      "cell_type": "code",
      "source": [
        "\n",
        "import pandas as pd\n",
        "legenda = pd.read_csv('ESC-50/meta/esc50.csv')\n",
        "\n",
        "legenda1 = legenda[legenda['category']=='breathing']\n",
        "legenda2 = legenda[legenda['category']=='snoring']\n",
        "\n",
        "b_wav_files = legenda1['filename']\n",
        "s_wav_files = legenda2['filename']\n",
        "\n",
        "legenda2.head()"
      ],
      "metadata": {
        "colab": {
          "base_uri": "https://localhost:8080/",
          "height": 206
        },
        "id": "ygdhkQ6WVLZm",
        "outputId": "bdeaa848-9d2e-4992-b10c-4bede77edb76"
      },
      "execution_count": null,
      "outputs": [
        {
          "output_type": "execute_result",
          "data": {
            "text/html": [
              "\n",
              "  <div id=\"df-9a23c31d-08e3-452e-9f9f-a44070644154\">\n",
              "    <div class=\"colab-df-container\">\n",
              "      <div>\n",
              "<style scoped>\n",
              "    .dataframe tbody tr th:only-of-type {\n",
              "        vertical-align: middle;\n",
              "    }\n",
              "\n",
              "    .dataframe tbody tr th {\n",
              "        vertical-align: top;\n",
              "    }\n",
              "\n",
              "    .dataframe thead th {\n",
              "        text-align: right;\n",
              "    }\n",
              "</style>\n",
              "<table border=\"1\" class=\"dataframe\">\n",
              "  <thead>\n",
              "    <tr style=\"text-align: right;\">\n",
              "      <th></th>\n",
              "      <th>filename</th>\n",
              "      <th>fold</th>\n",
              "      <th>target</th>\n",
              "      <th>category</th>\n",
              "      <th>esc10</th>\n",
              "      <th>src_file</th>\n",
              "      <th>take</th>\n",
              "    </tr>\n",
              "  </thead>\n",
              "  <tbody>\n",
              "    <tr>\n",
              "      <th>97</th>\n",
              "      <td>1-20545-A-28.wav</td>\n",
              "      <td>1</td>\n",
              "      <td>28</td>\n",
              "      <td>snoring</td>\n",
              "      <td>False</td>\n",
              "      <td>20545</td>\n",
              "      <td>A</td>\n",
              "    </tr>\n",
              "    <tr>\n",
              "      <th>144</th>\n",
              "      <td>1-27403-A-28.wav</td>\n",
              "      <td>1</td>\n",
              "      <td>28</td>\n",
              "      <td>snoring</td>\n",
              "      <td>False</td>\n",
              "      <td>27403</td>\n",
              "      <td>A</td>\n",
              "    </tr>\n",
              "    <tr>\n",
              "      <th>145</th>\n",
              "      <td>1-27405-A-28.wav</td>\n",
              "      <td>1</td>\n",
              "      <td>28</td>\n",
              "      <td>snoring</td>\n",
              "      <td>False</td>\n",
              "      <td>27405</td>\n",
              "      <td>A</td>\n",
              "    </tr>\n",
              "    <tr>\n",
              "      <th>198</th>\n",
              "      <td>1-39937-A-28.wav</td>\n",
              "      <td>1</td>\n",
              "      <td>28</td>\n",
              "      <td>snoring</td>\n",
              "      <td>False</td>\n",
              "      <td>39937</td>\n",
              "      <td>A</td>\n",
              "    </tr>\n",
              "    <tr>\n",
              "      <th>200</th>\n",
              "      <td>1-40621-A-28.wav</td>\n",
              "      <td>1</td>\n",
              "      <td>28</td>\n",
              "      <td>snoring</td>\n",
              "      <td>False</td>\n",
              "      <td>40621</td>\n",
              "      <td>A</td>\n",
              "    </tr>\n",
              "  </tbody>\n",
              "</table>\n",
              "</div>\n",
              "      <button class=\"colab-df-convert\" onclick=\"convertToInteractive('df-9a23c31d-08e3-452e-9f9f-a44070644154')\"\n",
              "              title=\"Convert this dataframe to an interactive table.\"\n",
              "              style=\"display:none;\">\n",
              "        \n",
              "  <svg xmlns=\"http://www.w3.org/2000/svg\" height=\"24px\"viewBox=\"0 0 24 24\"\n",
              "       width=\"24px\">\n",
              "    <path d=\"M0 0h24v24H0V0z\" fill=\"none\"/>\n",
              "    <path d=\"M18.56 5.44l.94 2.06.94-2.06 2.06-.94-2.06-.94-.94-2.06-.94 2.06-2.06.94zm-11 1L8.5 8.5l.94-2.06 2.06-.94-2.06-.94L8.5 2.5l-.94 2.06-2.06.94zm10 10l.94 2.06.94-2.06 2.06-.94-2.06-.94-.94-2.06-.94 2.06-2.06.94z\"/><path d=\"M17.41 7.96l-1.37-1.37c-.4-.4-.92-.59-1.43-.59-.52 0-1.04.2-1.43.59L10.3 9.45l-7.72 7.72c-.78.78-.78 2.05 0 2.83L4 21.41c.39.39.9.59 1.41.59.51 0 1.02-.2 1.41-.59l7.78-7.78 2.81-2.81c.8-.78.8-2.07 0-2.86zM5.41 20L4 18.59l7.72-7.72 1.47 1.35L5.41 20z\"/>\n",
              "  </svg>\n",
              "      </button>\n",
              "      \n",
              "  <style>\n",
              "    .colab-df-container {\n",
              "      display:flex;\n",
              "      flex-wrap:wrap;\n",
              "      gap: 12px;\n",
              "    }\n",
              "\n",
              "    .colab-df-convert {\n",
              "      background-color: #E8F0FE;\n",
              "      border: none;\n",
              "      border-radius: 50%;\n",
              "      cursor: pointer;\n",
              "      display: none;\n",
              "      fill: #1967D2;\n",
              "      height: 32px;\n",
              "      padding: 0 0 0 0;\n",
              "      width: 32px;\n",
              "    }\n",
              "\n",
              "    .colab-df-convert:hover {\n",
              "      background-color: #E2EBFA;\n",
              "      box-shadow: 0px 1px 2px rgba(60, 64, 67, 0.3), 0px 1px 3px 1px rgba(60, 64, 67, 0.15);\n",
              "      fill: #174EA6;\n",
              "    }\n",
              "\n",
              "    [theme=dark] .colab-df-convert {\n",
              "      background-color: #3B4455;\n",
              "      fill: #D2E3FC;\n",
              "    }\n",
              "\n",
              "    [theme=dark] .colab-df-convert:hover {\n",
              "      background-color: #434B5C;\n",
              "      box-shadow: 0px 1px 3px 1px rgba(0, 0, 0, 0.15);\n",
              "      filter: drop-shadow(0px 1px 2px rgba(0, 0, 0, 0.3));\n",
              "      fill: #FFFFFF;\n",
              "    }\n",
              "  </style>\n",
              "\n",
              "      <script>\n",
              "        const buttonEl =\n",
              "          document.querySelector('#df-9a23c31d-08e3-452e-9f9f-a44070644154 button.colab-df-convert');\n",
              "        buttonEl.style.display =\n",
              "          google.colab.kernel.accessAllowed ? 'block' : 'none';\n",
              "\n",
              "        async function convertToInteractive(key) {\n",
              "          const element = document.querySelector('#df-9a23c31d-08e3-452e-9f9f-a44070644154');\n",
              "          const dataTable =\n",
              "            await google.colab.kernel.invokeFunction('convertToInteractive',\n",
              "                                                     [key], {});\n",
              "          if (!dataTable) return;\n",
              "\n",
              "          const docLinkHtml = 'Like what you see? Visit the ' +\n",
              "            '<a target=\"_blank\" href=https://colab.research.google.com/notebooks/data_table.ipynb>data table notebook</a>'\n",
              "            + ' to learn more about interactive tables.';\n",
              "          element.innerHTML = '';\n",
              "          dataTable['output_type'] = 'display_data';\n",
              "          await google.colab.output.renderOutput(dataTable, element);\n",
              "          const docLink = document.createElement('div');\n",
              "          docLink.innerHTML = docLinkHtml;\n",
              "          element.appendChild(docLink);\n",
              "        }\n",
              "      </script>\n",
              "    </div>\n",
              "  </div>\n",
              "  "
            ],
            "text/plain": [
              "             filename  fold  target category  esc10  src_file take\n",
              "97   1-20545-A-28.wav     1      28  snoring  False     20545    A\n",
              "144  1-27403-A-28.wav     1      28  snoring  False     27403    A\n",
              "145  1-27405-A-28.wav     1      28  snoring  False     27405    A\n",
              "198  1-39937-A-28.wav     1      28  snoring  False     39937    A\n",
              "200  1-40621-A-28.wav     1      28  snoring  False     40621    A"
            ]
          },
          "metadata": {},
          "execution_count": 109
        }
      ]
    },
    {
      "cell_type": "code",
      "metadata": {
        "id": "kiQkTS5Ajdcg",
        "colab": {
          "base_uri": "https://localhost:8080/"
        },
        "outputId": "38573310-4734-4333-a33d-e45fe7ae8534"
      },
      "source": [
        "#from os import listdir\n",
        "#from os.path import isfile, join\n",
        "#b_wav_files = [f for f in listdir('ESC-50/audio/') if f == '1-52323-A-24.wav']\n",
        "#c_wav_files = [f for f in listdir('ESC-50/audio/') if f in legenda2['filename']]\n",
        "b_wav_files "
      ],
      "execution_count": null,
      "outputs": [
        {
          "output_type": "execute_result",
          "data": {
            "text/plain": [
              "76       1-18631-A-23.wav\n",
              "159      1-30709-A-23.wav\n",
              "160      1-30709-B-23.wav\n",
              "161      1-30709-C-23.wav\n",
              "185      1-36393-A-23.wav\n",
              "186      1-36397-A-23.wav\n",
              "187      1-36400-A-23.wav\n",
              "188      1-36402-A-23.wav\n",
              "649      2-50774-A-23.wav\n",
              "659      2-54961-A-23.wav\n",
              "660      2-54962-A-23.wav\n",
              "683      2-66205-A-23.wav\n",
              "750      2-82455-A-23.wav\n",
              "760      2-84965-A-23.wav\n",
              "786      2-95567-A-23.wav\n",
              "792      2-98392-A-23.wav\n",
              "829     3-108160-A-23.wav\n",
              "844     3-112557-A-23.wav\n",
              "845     3-112557-B-23.wav\n",
              "957     3-144128-A-23.wav\n",
              "958     3-144128-B-23.wav\n",
              "999     3-151206-A-23.wav\n",
              "1087    3-166125-A-23.wav\n",
              "1088    3-166125-B-23.wav\n",
              "1360    4-171706-A-23.wav\n",
              "1392    4-176914-A-23.wav\n",
              "1507    4-198025-A-23.wav\n",
              "1536    4-205526-A-23.wav\n",
              "1537    4-205526-B-23.wav\n",
              "1539    4-207116-A-23.wav\n",
              "1544    4-210000-A-23.wav\n",
              "1545    4-210000-B-23.wav\n",
              "1805    5-213293-A-23.wav\n",
              "1874    5-232816-A-23.wav\n",
              "1877    5-233260-A-23.wav\n",
              "1886    5-234335-A-23.wav\n",
              "1892    5-235593-A-23.wav\n",
              "1904    5-238492-A-23.wav\n",
              "1978    5-260164-A-23.wav\n",
              "1986    5-261464-A-23.wav\n",
              "Name: filename, dtype: object"
            ]
          },
          "metadata": {},
          "execution_count": 110
        }
      ]
    },
    {
      "cell_type": "code",
      "metadata": {
        "id": "_8aBmW5sk2Ui"
      },
      "source": [
        "import librosa\n",
        "\n",
        "def get_mel_spectrogram(file_path, max_padding=0, n_fft=2048, hop_length=512, n_mels=128):\n",
        "    try:\n",
        "        # Load audio file\n",
        "        y, sr = librosa.load(file_path)\n",
        "\n",
        "        # Normalize audio data between -1 and 1\n",
        "        normalized_y = librosa.util.normalize(y)\n",
        "\n",
        "        # Generate mel scaled filterbanks\n",
        "        mel = librosa.feature.melspectrogram(normalized_y, sr=sr, n_mels=n_mels)\n",
        "\n",
        "        # Convert sound intensity to log amplitude:\n",
        "        mel_db = librosa.amplitude_to_db(abs(mel))\n",
        "\n",
        "        # Normalize between -1 and 1\n",
        "        normalized_mel = librosa.util.normalize(mel_db)\n",
        "\n",
        "        # Should we require padding\n",
        "        shape = normalized_mel.shape[1]\n",
        "        if (max_padding > 0 & shape < max_padding):\n",
        "            xDiff = max_padding - shape\n",
        "            xLeft = xDiff//2\n",
        "            xRight = xDiff-xLeft\n",
        "            normalized_mel = np.pad(normalized_mel, pad_width=((0,0), (xLeft, xRight)), mode='constant')\n",
        "\n",
        "    except Exception as e:\n",
        "        print(\"Error parsing wavefile: \", e)\n",
        "        return None \n",
        "    return normalized_mel"
      ],
      "execution_count": null,
      "outputs": []
    },
    {
      "cell_type": "code",
      "metadata": {
        "id": "rixVZuqBht1i",
        "outputId": "5b83ab8e-746d-4395-a419-c0c05637f255",
        "colab": {
          "base_uri": "https://localhost:8080/"
        }
      },
      "source": [
        "features = []\n",
        "labels = []\n",
        "frames_max = 0\n",
        "counter = 0\n",
        "total_samples = len(b_wav_files)+len(s_wav_files)\n",
        "n_mels=40\n",
        "\n",
        "\n",
        "for b_wav_file in b_wav_files:\n",
        "    file_path = 'ESC-50/audio/'+b_wav_file\n",
        "    class_label = 'breathing'\n",
        "\n",
        "    # Extract Log-Mel Spectrograms (do not add padding)\n",
        "    print(file_path)\n",
        "    mels = get_mel_spectrogram(file_path, 0, n_mels=n_mels)\n",
        "    \n",
        "    # Save current frame count\n",
        "    num_frames = mels.shape[1]\n",
        "    \n",
        "    # Add row (feature / label)\n",
        "    features.append(mels)\n",
        "    labels.append(class_label)\n",
        "\n",
        "    # Update frames maximum\n",
        "    if (num_frames > frames_max):\n",
        "        frames_max = num_frames\n",
        "\n",
        "for s_wav_file in s_wav_files:\n",
        "    file_path = 'ESC-50/audio/'+s_wav_file\n",
        "    class_label = 'snoring'\n",
        "\n",
        "    # Extract Log-Mel Spectrograms (do not add padding)\n",
        "    print(file_path)\n",
        "    mels = get_mel_spectrogram(file_path, 0, n_mels=n_mels)\n",
        "    \n",
        "    # Save current frame count\n",
        "    num_frames = mels.shape[1]\n",
        "    \n",
        "    # Add row (feature / label)\n",
        "    features.append(mels)\n",
        "    labels.append(class_label)\n",
        "\n",
        "    # Update frames maximum\n",
        "    if (num_frames > frames_max):\n",
        "        frames_max = num_frames"
      ],
      "execution_count": null,
      "outputs": [
        {
          "output_type": "stream",
          "name": "stdout",
          "text": [
            "ESC-50/audio/1-18631-A-23.wav\n",
            "ESC-50/audio/1-30709-A-23.wav\n",
            "ESC-50/audio/1-30709-B-23.wav\n",
            "ESC-50/audio/1-30709-C-23.wav\n",
            "ESC-50/audio/1-36393-A-23.wav\n",
            "ESC-50/audio/1-36397-A-23.wav\n",
            "ESC-50/audio/1-36400-A-23.wav\n",
            "ESC-50/audio/1-36402-A-23.wav\n",
            "ESC-50/audio/2-50774-A-23.wav\n",
            "ESC-50/audio/2-54961-A-23.wav\n",
            "ESC-50/audio/2-54962-A-23.wav\n",
            "ESC-50/audio/2-66205-A-23.wav\n",
            "ESC-50/audio/2-82455-A-23.wav\n",
            "ESC-50/audio/2-84965-A-23.wav\n",
            "ESC-50/audio/2-95567-A-23.wav\n",
            "ESC-50/audio/2-98392-A-23.wav\n",
            "ESC-50/audio/3-108160-A-23.wav\n",
            "ESC-50/audio/3-112557-A-23.wav\n",
            "ESC-50/audio/3-112557-B-23.wav\n",
            "ESC-50/audio/3-144128-A-23.wav\n",
            "ESC-50/audio/3-144128-B-23.wav\n",
            "ESC-50/audio/3-151206-A-23.wav\n",
            "ESC-50/audio/3-166125-A-23.wav\n",
            "ESC-50/audio/3-166125-B-23.wav\n",
            "ESC-50/audio/4-171706-A-23.wav\n",
            "ESC-50/audio/4-176914-A-23.wav\n",
            "ESC-50/audio/4-198025-A-23.wav\n",
            "ESC-50/audio/4-205526-A-23.wav\n",
            "ESC-50/audio/4-205526-B-23.wav\n",
            "ESC-50/audio/4-207116-A-23.wav\n",
            "ESC-50/audio/4-210000-A-23.wav\n",
            "ESC-50/audio/4-210000-B-23.wav\n",
            "ESC-50/audio/5-213293-A-23.wav\n",
            "ESC-50/audio/5-232816-A-23.wav\n",
            "ESC-50/audio/5-233260-A-23.wav\n",
            "ESC-50/audio/5-234335-A-23.wav\n",
            "ESC-50/audio/5-235593-A-23.wav\n",
            "ESC-50/audio/5-238492-A-23.wav\n",
            "ESC-50/audio/5-260164-A-23.wav\n",
            "ESC-50/audio/5-261464-A-23.wav\n",
            "ESC-50/audio/1-20545-A-28.wav\n",
            "ESC-50/audio/1-27403-A-28.wav\n",
            "ESC-50/audio/1-27405-A-28.wav\n",
            "ESC-50/audio/1-39937-A-28.wav\n",
            "ESC-50/audio/1-40621-A-28.wav\n",
            "ESC-50/audio/1-40967-A-28.wav\n",
            "ESC-50/audio/1-47923-A-28.wav\n",
            "ESC-50/audio/1-53444-A-28.wav\n",
            "ESC-50/audio/2-110417-A-28.wav\n",
            "ESC-50/audio/2-110417-B-28.wav\n",
            "ESC-50/audio/2-114609-A-28.wav\n",
            "ESC-50/audio/2-114609-B-28.wav\n",
            "ESC-50/audio/2-117330-A-28.wav\n",
            "ESC-50/audio/2-52001-A-28.wav\n",
            "ESC-50/audio/2-52001-B-28.wav\n",
            "ESC-50/audio/2-80313-A-28.wav\n",
            "ESC-50/audio/3-123086-A-28.wav\n",
            "ESC-50/audio/3-124795-A-28.wav\n",
            "ESC-50/audio/3-124958-A-28.wav\n",
            "ESC-50/audio/3-130998-A-28.wav\n",
            "ESC-50/audio/3-130998-B-28.wav\n",
            "ESC-50/audio/3-151255-A-28.wav\n",
            "ESC-50/audio/3-151557-A-28.wav\n",
            "ESC-50/audio/3-151557-B-28.wav\n",
            "ESC-50/audio/4-180337-A-28.wav\n",
            "ESC-50/audio/4-183882-A-28.wav\n",
            "ESC-50/audio/4-183882-B-28.wav\n",
            "ESC-50/audio/4-184235-A-28.wav\n",
            "ESC-50/audio/4-184237-A-28.wav\n",
            "ESC-50/audio/4-191297-A-28.wav\n",
            "ESC-50/audio/4-197454-A-28.wav\n",
            "ESC-50/audio/4-197454-B-28.wav\n",
            "ESC-50/audio/5-216368-A-28.wav\n",
            "ESC-50/audio/5-233312-A-28.wav\n",
            "ESC-50/audio/5-234145-A-28.wav\n",
            "ESC-50/audio/5-235874-A-28.wav\n",
            "ESC-50/audio/5-235893-A-28.wav\n",
            "ESC-50/audio/5-236288-A-28.wav\n",
            "ESC-50/audio/5-244459-A-28.wav\n",
            "ESC-50/audio/5-249748-A-28.wav\n"
          ]
        }
      ]
    },
    {
      "cell_type": "code",
      "metadata": {
        "id": "oHSAUXt9ZQnO",
        "outputId": "6502f1c1-dfe0-4063-e82e-a24fabdd5195",
        "colab": {
          "base_uri": "https://localhost:8080/"
        }
      },
      "source": [
        "melspec = get_mel_spectrogram('ESC-50/audio/5-251489-A-24.wav')\n",
        "melspec.shape"
      ],
      "execution_count": null,
      "outputs": [
        {
          "output_type": "execute_result",
          "data": {
            "text/plain": [
              "(128, 216)"
            ]
          },
          "metadata": {},
          "execution_count": 113
        }
      ]
    },
    {
      "cell_type": "code",
      "metadata": {
        "id": "GmvpRGzxZdo7",
        "outputId": "e99ac317-7ce2-4ac2-f22d-8a748392967e",
        "colab": {
          "base_uri": "https://localhost:8080/"
        }
      },
      "source": [
        "melspec = get_mel_spectrogram('ESC-50/audio/5-251489-A-24.wav')\n",
        "melspec.shape"
      ],
      "execution_count": null,
      "outputs": [
        {
          "output_type": "execute_result",
          "data": {
            "text/plain": [
              "(128, 216)"
            ]
          },
          "metadata": {},
          "execution_count": 114
        }
      ]
    },
    {
      "cell_type": "code",
      "metadata": {
        "id": "cEXXdJJ3kfuE"
      },
      "source": [
        "# Given an numpy array of features, zero-pads each ocurrence to max_padding\n",
        "def add_padding(features, max_padding=174):\n",
        "    padded = []\n",
        "\n",
        "    # Add padding\n",
        "    for i in range(len(features)):\n",
        "        px = features[i]\n",
        "        size = len(px[0])\n",
        "        # Add padding if required\n",
        "        if (size < max_padding):\n",
        "            xDiff = max_padding - size\n",
        "            xLeft = xDiff//2\n",
        "            xRight = xDiff-xLeft\n",
        "            px = np.pad(px, pad_width=((0,0), (xLeft, xRight)), mode='constant')\n",
        "        \n",
        "        padded.append(px)\n",
        "\n",
        "    return padded"
      ],
      "execution_count": null,
      "outputs": []
    },
    {
      "cell_type": "code",
      "metadata": {
        "id": "G0-EKTYYlnNN"
      },
      "source": [
        "padded_features = add_padding(features, frames_max)"
      ],
      "execution_count": null,
      "outputs": []
    },
    {
      "cell_type": "code",
      "metadata": {
        "id": "0iSn0NgClscv"
      },
      "source": [
        "X = np.array(padded_features)\n",
        "y = np.array(labels)"
      ],
      "execution_count": null,
      "outputs": []
    },
    {
      "cell_type": "code",
      "metadata": {
        "id": "1S7NgvoOaIMf",
        "outputId": "05fbde4b-c6e3-4b0f-82c7-ee0c0ff7fa12",
        "colab": {
          "base_uri": "https://localhost:8080/"
        }
      },
      "source": [
        "X.shape"
      ],
      "execution_count": null,
      "outputs": [
        {
          "output_type": "execute_result",
          "data": {
            "text/plain": [
              "(80, 40, 216)"
            ]
          },
          "metadata": {},
          "execution_count": 118
        }
      ]
    },
    {
      "cell_type": "code",
      "metadata": {
        "id": "2OH3-IGZajg3",
        "outputId": "64b8f662-f5a7-4d5f-984f-097df1843ee6",
        "colab": {
          "base_uri": "https://localhost:8080/"
        }
      },
      "source": [
        "X"
      ],
      "execution_count": null,
      "outputs": [
        {
          "output_type": "execute_result",
          "data": {
            "text/plain": [
              "array([[[ 3.97e-01,  6.97e-01,  7.92e-01, ..., -4.84e-01, -9.37e-02,\n",
              "         -2.88e-01],\n",
              "        [ 8.09e-01,  9.18e-01,  8.89e-01, ..., -3.49e-03,  2.11e-01,\n",
              "          2.89e-01],\n",
              "        [ 1.00e+00,  9.62e-01,  5.11e-01, ..., -7.99e-02, -3.96e-02,\n",
              "          3.33e-01],\n",
              "        ...,\n",
              "        [-9.01e-01, -1.00e+00, -1.00e+00, ..., -1.00e+00, -1.00e+00,\n",
              "         -1.00e+00],\n",
              "        [-9.01e-01, -1.00e+00, -1.00e+00, ..., -1.00e+00, -1.00e+00,\n",
              "         -1.00e+00],\n",
              "        [-9.01e-01, -1.00e+00, -1.00e+00, ..., -1.00e+00, -1.00e+00,\n",
              "         -1.00e+00]],\n",
              "\n",
              "       [[-9.32e-03,  3.44e-04, -1.42e-01, ...,  1.25e-01,  2.05e-01,\n",
              "          1.00e-01],\n",
              "        [-2.64e-01, -1.05e-01, -7.40e-03, ..., -2.48e-01, -1.19e-02,\n",
              "          1.35e-01],\n",
              "        [-3.15e-01, -2.84e-01, -1.98e-01, ..., -2.19e-01, -9.50e-02,\n",
              "         -1.87e-01],\n",
              "        ...,\n",
              "        [-1.00e+00, -1.00e+00, -1.00e+00, ..., -1.00e+00, -1.00e+00,\n",
              "         -1.00e+00],\n",
              "        [-1.00e+00, -1.00e+00, -1.00e+00, ..., -1.00e+00, -1.00e+00,\n",
              "         -1.00e+00],\n",
              "        [-1.00e+00, -1.00e+00, -1.00e+00, ..., -1.00e+00, -1.00e+00,\n",
              "         -1.00e+00]],\n",
              "\n",
              "       [[-3.76e-01, -1.93e-01, -6.51e-02, ...,  5.46e-01,  5.29e-01,\n",
              "          3.87e-01],\n",
              "        [-2.55e-01, -1.88e-01, -1.83e-01, ...,  5.23e-01,  5.47e-01,\n",
              "          5.59e-01],\n",
              "        [-1.57e-01, -1.33e-01, -1.63e-01, ...,  3.88e-01,  3.79e-01,\n",
              "          4.87e-01],\n",
              "        ...,\n",
              "        [-1.00e+00, -1.00e+00, -1.00e+00, ..., -7.78e-01, -7.93e-01,\n",
              "         -7.77e-01],\n",
              "        [-1.00e+00, -1.00e+00, -1.00e+00, ..., -7.78e-01, -7.93e-01,\n",
              "         -7.77e-01],\n",
              "        [-1.00e+00, -1.00e+00, -1.00e+00, ..., -7.78e-01, -7.93e-01,\n",
              "         -7.77e-01]],\n",
              "\n",
              "       ...,\n",
              "\n",
              "       [[ 1.00e+00,  1.00e+00,  1.00e+00, ...,  6.79e-01,  9.06e-01,\n",
              "          7.12e-01],\n",
              "        [ 4.85e-01,  4.95e-01,  5.33e-01, ..., -4.85e-01, -3.67e-01,\n",
              "         -5.12e-01],\n",
              "        [ 1.24e-01,  2.53e-01,  2.47e-01, ..., -6.22e-01, -5.47e-01,\n",
              "         -1.00e+00],\n",
              "        ...,\n",
              "        [-6.17e-01, -5.96e-01, -5.59e-01, ..., -1.00e+00, -1.00e+00,\n",
              "         -1.00e+00],\n",
              "        [-6.17e-01, -5.96e-01, -5.59e-01, ..., -1.00e+00, -1.00e+00,\n",
              "         -1.00e+00],\n",
              "        [-6.17e-01, -5.96e-01, -5.59e-01, ..., -1.00e+00, -1.00e+00,\n",
              "         -1.00e+00]],\n",
              "\n",
              "       [[ 8.20e-01,  5.42e-01,  6.84e-01, ...,  7.88e-01,  6.55e-01,\n",
              "          7.00e-01],\n",
              "        [ 7.89e-01,  5.15e-01,  9.54e-03, ..., -3.67e-01, -4.92e-01,\n",
              "         -4.36e-01],\n",
              "        [ 2.45e-01, -1.76e-01, -5.24e-01, ..., -4.59e-01, -4.78e-01,\n",
              "         -6.23e-01],\n",
              "        ...,\n",
              "        [-1.00e+00, -1.00e+00, -1.00e+00, ..., -1.00e+00, -1.00e+00,\n",
              "         -1.00e+00],\n",
              "        [-1.00e+00, -1.00e+00, -1.00e+00, ..., -1.00e+00, -1.00e+00,\n",
              "         -1.00e+00],\n",
              "        [-1.00e+00, -1.00e+00, -1.00e+00, ..., -1.00e+00, -1.00e+00,\n",
              "         -1.00e+00]],\n",
              "\n",
              "       [[ 7.04e-01,  7.07e-01,  4.45e-01, ..., -2.19e-01, -1.82e-01,\n",
              "         -2.39e-01],\n",
              "        [ 4.38e-01,  4.51e-01,  4.62e-01, ..., -1.00e+00, -8.73e-01,\n",
              "         -6.69e-01],\n",
              "        [ 2.15e-01,  1.78e-01,  1.43e-01, ..., -1.00e+00, -1.00e+00,\n",
              "         -1.00e+00],\n",
              "        ...,\n",
              "        [-4.90e-01, -5.80e-01, -6.04e-01, ..., -1.00e+00, -1.00e+00,\n",
              "         -1.00e+00],\n",
              "        [-8.52e-01, -9.95e-01, -1.00e+00, ..., -1.00e+00, -1.00e+00,\n",
              "         -1.00e+00],\n",
              "        [-7.76e-01, -9.52e-01, -9.42e-01, ..., -1.00e+00, -1.00e+00,\n",
              "         -1.00e+00]]], dtype=float32)"
            ]
          },
          "metadata": {},
          "execution_count": 119
        }
      ]
    },
    {
      "cell_type": "code",
      "metadata": {
        "id": "uNPnYuqRlzYp",
        "outputId": "1b55f742-78f7-4e21-a779-7523d6971d63",
        "colab": {
          "base_uri": "https://localhost:8080/"
        }
      },
      "source": [
        "y"
      ],
      "execution_count": null,
      "outputs": [
        {
          "output_type": "execute_result",
          "data": {
            "text/plain": [
              "array(['breathing', 'breathing', 'breathing', 'breathing', 'breathing',\n",
              "       'breathing', 'breathing', 'breathing', 'breathing', 'breathing',\n",
              "       'breathing', 'breathing', 'breathing', 'breathing', 'breathing',\n",
              "       'breathing', 'breathing', 'breathing', 'breathing', 'breathing',\n",
              "       'breathing', 'breathing', 'breathing', 'breathing', 'breathing',\n",
              "       'breathing', 'breathing', 'breathing', 'breathing', 'breathing',\n",
              "       'breathing', 'breathing', 'breathing', 'breathing', 'breathing',\n",
              "       'breathing', 'breathing', 'breathing', 'breathing', 'breathing',\n",
              "       'snoring', 'snoring', 'snoring', 'snoring', 'snoring', 'snoring',\n",
              "       'snoring', 'snoring', 'snoring', 'snoring', 'snoring', 'snoring',\n",
              "       'snoring', 'snoring', 'snoring', 'snoring', 'snoring', 'snoring',\n",
              "       'snoring', 'snoring', 'snoring', 'snoring', 'snoring', 'snoring',\n",
              "       'snoring', 'snoring', 'snoring', 'snoring', 'snoring', 'snoring',\n",
              "       'snoring', 'snoring', 'snoring', 'snoring', 'snoring', 'snoring',\n",
              "       'snoring', 'snoring', 'snoring', 'snoring'], dtype='<U9')"
            ]
          },
          "metadata": {},
          "execution_count": 120
        }
      ]
    },
    {
      "cell_type": "markdown",
      "source": [
        "# SVC e MLP classifier"
      ],
      "metadata": {
        "id": "5djqeBd26G5O"
      }
    },
    {
      "cell_type": "code",
      "source": [
        "X_ = X.reshape(80,8640)\n"
      ],
      "metadata": {
        "id": "U0v44lNn1i4_"
      },
      "execution_count": null,
      "outputs": []
    },
    {
      "cell_type": "code",
      "source": [
        "X_train, X_test, y_train, y_test = train_test_split(X_,y,test_size=0.25, random_state=42)"
      ],
      "metadata": {
        "id": "CkmvPAl_33XF"
      },
      "execution_count": null,
      "outputs": []
    },
    {
      "cell_type": "code",
      "source": [
        "from sklearn.svm import SVC\n",
        "from sklearn.metrics import accuracy_score, precision_score, recall_score, f1_score\n",
        "\n",
        "clf = SVC(random_state=42).fit(X_train, y_train)\n",
        "clf.score(X_test, y_test)\n",
        "\n",
        "predictions_2 = list(clf.predict(X_test))\n",
        "\n",
        "print('Accuracy score: {}'.format(accuracy_score(y_test, predictions_2)))\n",
        "print('Precision score: {}'.format(precision_score(y_test, predictions_2,pos_label='breathing')))\n",
        "print('Recall score: {}'.format(recall_score(y_test, predictions_2,pos_label='breathing')))\n",
        "print('F1 score: {}'.format(f1_score(y_test, predictions_2,pos_label='breathing')))"
      ],
      "metadata": {
        "colab": {
          "base_uri": "https://localhost:8080/"
        },
        "id": "uhWrWvZa6V41",
        "outputId": "e04d24f9-a9eb-4f14-a3a7-8f84ec733973"
      },
      "execution_count": null,
      "outputs": [
        {
          "output_type": "stream",
          "name": "stdout",
          "text": [
            "Accuracy score: 0.85\n",
            "Precision score: 1.0\n",
            "Recall score: 0.7272727272727273\n",
            "F1 score: 0.8421052631578948\n"
          ]
        }
      ]
    },
    {
      "cell_type": "code",
      "source": [
        "print('Precision score: {}'.format(precision_score(y_test, predictions_2,pos_label='snoring')))\n",
        "print('Recall score: {}'.format(recall_score(y_test, predictions_2,pos_label='snoring')))\n",
        "print('F1 score: {}'.format(f1_score(y_test, predictions_2,pos_label='snoring')))"
      ],
      "metadata": {
        "colab": {
          "base_uri": "https://localhost:8080/"
        },
        "id": "zZUUkQMW_aX6",
        "outputId": "08fdef4c-8480-4482-fb0d-c5da70123d8b"
      },
      "execution_count": null,
      "outputs": [
        {
          "output_type": "stream",
          "name": "stdout",
          "text": [
            "Precision score: 0.75\n",
            "Recall score: 1.0\n",
            "F1 score: 0.8571428571428571\n"
          ]
        }
      ]
    },
    {
      "cell_type": "code",
      "source": [
        "ra1 = classification_report(y_test, predictions_2, labels=['snoring','breathing'], target_names=['snoring','breathing'])\n",
        "\n",
        "print(ra1)"
      ],
      "metadata": {
        "colab": {
          "base_uri": "https://localhost:8080/"
        },
        "id": "Vk8igcRyAgBu",
        "outputId": "07ca9c72-5faf-4086-cd0e-c9ab11790a75"
      },
      "execution_count": null,
      "outputs": [
        {
          "output_type": "stream",
          "name": "stdout",
          "text": [
            "              precision    recall  f1-score   support\n",
            "\n",
            "     snoring       0.75      1.00      0.86         9\n",
            "   breathing       1.00      0.73      0.84        11\n",
            "\n",
            "    accuracy                           0.85        20\n",
            "   macro avg       0.88      0.86      0.85        20\n",
            "weighted avg       0.89      0.85      0.85        20\n",
            "\n"
          ]
        }
      ]
    },
    {
      "cell_type": "code",
      "source": [
        "from sklearn.neural_network import MLPClassifier\n",
        "\n",
        "clf = MLPClassifier(random_state=42, max_iter=300).fit(X_train, y_train)\n",
        "clf.score(X_test, y_test)\n",
        "\n",
        "predictions_1 = list(clf.predict(X_test))\n",
        "\n",
        "print('Accuracy score: {}'.format(accuracy_score(y_test, predictions_1)))\n",
        "print('Precision score: {}'.format(precision_score(y_test, predictions_1,pos_label='breathing')))\n",
        "print('Recall score: {}'.format(recall_score(y_test, predictions_1,pos_label='breathing')))\n",
        "print('F1 score: {}'.format(f1_score(y_test, predictions_1,pos_label='breathing')))"
      ],
      "metadata": {
        "colab": {
          "base_uri": "https://localhost:8080/"
        },
        "id": "t0Uq_Ugc6WFL",
        "outputId": "e7ac6bd9-fc40-4f1a-bc26-7370dc34c9b4"
      },
      "execution_count": null,
      "outputs": [
        {
          "output_type": "stream",
          "name": "stdout",
          "text": [
            "Accuracy score: 0.55\n",
            "Precision score: 0.5714285714285714\n",
            "Recall score: 0.7272727272727273\n",
            "F1 score: 0.64\n"
          ]
        }
      ]
    },
    {
      "cell_type": "code",
      "metadata": {
        "id": "KdC7NCGQaHO2",
        "colab": {
          "base_uri": "https://localhost:8080/"
        },
        "outputId": "79f9995f-e2ce-45dd-f681-1694e0e74a1d"
      },
      "source": [
        "print('Precision score: {}'.format(precision_score(y_test, predictions_1,pos_label='snoring')))\n",
        "print('Recall score: {}'.format(recall_score(y_test, predictions_1,pos_label='snoring')))\n",
        "print('F1 score: {}'.format(f1_score(y_test, predictions_1,pos_label='snoring')))"
      ],
      "execution_count": null,
      "outputs": [
        {
          "output_type": "stream",
          "name": "stdout",
          "text": [
            "Precision score: 0.5\n",
            "Recall score: 0.3333333333333333\n",
            "F1 score: 0.4\n"
          ]
        }
      ]
    },
    {
      "cell_type": "code",
      "source": [
        "ra2 = classification_report(y_test, predictions_1, labels=['snoring','breathing'], target_names=['snoring','breathing'])\n",
        "\n",
        "print(ra2)"
      ],
      "metadata": {
        "colab": {
          "base_uri": "https://localhost:8080/"
        },
        "id": "yFPufOySAlgu",
        "outputId": "362907c3-6cd9-43d9-d1f9-d698a79cec7c"
      },
      "execution_count": null,
      "outputs": [
        {
          "output_type": "stream",
          "name": "stdout",
          "text": [
            "              precision    recall  f1-score   support\n",
            "\n",
            "     snoring       0.50      0.33      0.40         9\n",
            "   breathing       0.57      0.73      0.64        11\n",
            "\n",
            "    accuracy                           0.55        20\n",
            "   macro avg       0.54      0.53      0.52        20\n",
            "weighted avg       0.54      0.55      0.53        20\n",
            "\n"
          ]
        }
      ]
    },
    {
      "cell_type": "markdown",
      "source": [
        "# CNN"
      ],
      "metadata": {
        "id": "NkLMfE4J6r-S"
      }
    },
    {
      "cell_type": "code",
      "metadata": {
        "id": "FWgSBbFel0Gt"
      },
      "source": [
        "np.save(\"X-mel_spec\", X)\n",
        "np.save(\"y-mel_spec\", y)"
      ],
      "execution_count": null,
      "outputs": []
    },
    {
      "cell_type": "code",
      "metadata": {
        "id": "ibcX4j0rmJjG",
        "outputId": "d298c1f9-3d02-4d15-eaa8-47c55d44f15f",
        "colab": {
          "base_uri": "https://localhost:8080/"
        }
      },
      "source": [
        "indexes = []\n",
        "total = total_samples\n",
        "indexes = list(range(0, total))\n",
        "\n",
        "# Randomize indexes\n",
        "random.shuffle(indexes)\n",
        "\n",
        "# Divide the indexes into Train and Test\n",
        "test_split_pct = 25                        # 30 dados de treino 10 de teste\n",
        "split_offset = math.floor(test_split_pct * total / 100)\n",
        "\n",
        "# Split the metadata\n",
        "test_split_idx = indexes[0:split_offset]\n",
        "train_split_idx = indexes[split_offset:total]\n",
        "\n",
        "\n",
        "# Split the features with the same indexes\n",
        "X_test = np.take(X, test_split_idx, axis=0)\n",
        "y_test = np.take(y, test_split_idx, axis=0)\n",
        "X_train = np.take(X, train_split_idx, axis=0)\n",
        "y_train = np.take(y, train_split_idx, axis=0)\n",
        "\n",
        "# Print status\n",
        "print(\"X test shape: {} \\t X train shape: {}\".format(X_test.shape, X_train.shape))\n",
        "print(\"y test shape: {} \\t\\t y train shape: {}\".format(y_test.shape, y_train.shape))"
      ],
      "execution_count": null,
      "outputs": [
        {
          "output_type": "stream",
          "name": "stdout",
          "text": [
            "X test shape: (20, 40, 216) \t X train shape: (60, 40, 216)\n",
            "y test shape: (20,) \t\t y train shape: (60,)\n"
          ]
        }
      ]
    },
    {
      "cell_type": "code",
      "metadata": {
        "id": "XRNmk78GmrHw"
      },
      "source": [
        "from tensorflow.keras.utils import to_categorical\n",
        "le = LabelEncoder()\n",
        "y_test_encoded = to_categorical(le.fit_transform(y_test))\n",
        "y_train_encoded = to_categorical(le.fit_transform(y_train))"
      ],
      "execution_count": null,
      "outputs": []
    },
    {
      "cell_type": "code",
      "metadata": {
        "id": "jzTVpoypaubK",
        "outputId": "c8aa811c-310e-4703-d0cf-d4f831df4a23",
        "colab": {
          "base_uri": "https://localhost:8080/"
        }
      },
      "source": [
        "y_test_encoded"
      ],
      "execution_count": null,
      "outputs": [
        {
          "output_type": "execute_result",
          "data": {
            "text/plain": [
              "array([[1., 0.],\n",
              "       [0., 1.],\n",
              "       [1., 0.],\n",
              "       [1., 0.],\n",
              "       [1., 0.],\n",
              "       [0., 1.],\n",
              "       [0., 1.],\n",
              "       [0., 1.],\n",
              "       [1., 0.],\n",
              "       [0., 1.],\n",
              "       [0., 1.],\n",
              "       [0., 1.],\n",
              "       [1., 0.],\n",
              "       [1., 0.],\n",
              "       [0., 1.],\n",
              "       [1., 0.],\n",
              "       [0., 1.],\n",
              "       [0., 1.],\n",
              "       [1., 0.],\n",
              "       [1., 0.]], dtype=float32)"
            ]
          },
          "metadata": {},
          "execution_count": 132
        }
      ]
    },
    {
      "cell_type": "code",
      "metadata": {
        "id": "aAjghJGKm25m"
      },
      "source": [
        "# How data should be structured\n",
        "num_rows = 40\n",
        "num_columns = 216\n",
        "num_channels = 1\n",
        "\n",
        "# Reshape to fit the network input (channel last)\n",
        "X_train = X_train.reshape(X_train.shape[0], num_rows, num_columns, num_channels)\n",
        "X_test = X_test.reshape(X_test.shape[0], num_rows, num_columns, num_channels)\n",
        "\n",
        "# Total number of labels to predict (equal to the network output nodes)\n",
        "num_labels = y_train_encoded.shape[1]"
      ],
      "execution_count": null,
      "outputs": []
    },
    {
      "cell_type": "code",
      "metadata": {
        "id": "yhBtT6V2m8s3",
        "outputId": "61ef7451-3337-486f-b2dd-b3a3c39acf93",
        "colab": {
          "base_uri": "https://localhost:8080/"
        }
      },
      "source": [
        "X_train.shape"
      ],
      "execution_count": null,
      "outputs": [
        {
          "output_type": "execute_result",
          "data": {
            "text/plain": [
              "(60, 40, 216, 1)"
            ]
          },
          "metadata": {},
          "execution_count": 134
        }
      ]
    },
    {
      "cell_type": "code",
      "metadata": {
        "id": "e-8t33v_nV5F"
      },
      "source": [
        "def create_model():\n",
        "\n",
        "    # Create a secquential object\n",
        "    model = Sequential()\n",
        "\n",
        "\n",
        "    # Conv 1\n",
        "    model.add(Conv2D(filters=32, \n",
        "                     kernel_size=(3, 3), \n",
        "                     input_shape=(num_rows, num_columns, num_channels)))\n",
        "    model.add(LeakyReLU(alpha=0.1))\n",
        "    model.add(BatchNormalization())\n",
        "\n",
        "    model.add(Conv2D(filters=32, \n",
        "                     kernel_size=(3, 3)))\n",
        "    model.add(LeakyReLU(alpha=0.1))\n",
        "    model.add(BatchNormalization())\n",
        "\n",
        "\n",
        "    # Max Pooling #1\n",
        "    model.add(MaxPooling2D(pool_size=(2, 2)))\n",
        "\n",
        "    model.add(Conv2D(filters=64, \n",
        "                     kernel_size=(3, 3)))\n",
        "    model.add(LeakyReLU(alpha=0.1))\n",
        "    model.add(BatchNormalization())\n",
        "\n",
        "    model.add(Conv2D(filters=64, \n",
        "                     kernel_size=(3,3)))\n",
        "    model.add(LeakyReLU(alpha=0.1))\n",
        "    model.add(BatchNormalization())\n",
        "    \n",
        "   \n",
        "    # Reduces each h×w feature map to a single number by taking the average of all h,w values.\n",
        "    model.add(GlobalAveragePooling2D())\n",
        "\n",
        "\n",
        "    # Softmax output\n",
        "    model.add(Dense(num_labels, activation='softmax'))\n",
        "    \n",
        "    return model\n",
        "\n",
        "\n",
        "model = create_model()"
      ],
      "execution_count": null,
      "outputs": []
    },
    {
      "cell_type": "code",
      "metadata": {
        "id": "XcjBMi9uneKM",
        "outputId": "5ac6ea13-805a-4501-cb2f-11d50057a57d",
        "colab": {
          "base_uri": "https://localhost:8080/"
        }
      },
      "source": [
        "model.compile(\n",
        "    loss='binary_crossentropy',  # duas classes\n",
        "    metrics=['accuracy'],  \n",
        "    optimizer='adam')\n",
        "\n",
        "# Display model architecture summary \n",
        "model.summary()"
      ],
      "execution_count": null,
      "outputs": [
        {
          "output_type": "stream",
          "name": "stdout",
          "text": [
            "Model: \"sequential_3\"\n",
            "_________________________________________________________________\n",
            " Layer (type)                Output Shape              Param #   \n",
            "=================================================================\n",
            " conv2d_12 (Conv2D)          (None, 38, 214, 32)       320       \n",
            "                                                                 \n",
            " leaky_re_lu_12 (LeakyReLU)  (None, 38, 214, 32)       0         \n",
            "                                                                 \n",
            " batch_normalization_12 (Bat  (None, 38, 214, 32)      128       \n",
            " chNormalization)                                                \n",
            "                                                                 \n",
            " conv2d_13 (Conv2D)          (None, 36, 212, 32)       9248      \n",
            "                                                                 \n",
            " leaky_re_lu_13 (LeakyReLU)  (None, 36, 212, 32)       0         \n",
            "                                                                 \n",
            " batch_normalization_13 (Bat  (None, 36, 212, 32)      128       \n",
            " chNormalization)                                                \n",
            "                                                                 \n",
            " max_pooling2d_3 (MaxPooling  (None, 18, 106, 32)      0         \n",
            " 2D)                                                             \n",
            "                                                                 \n",
            " conv2d_14 (Conv2D)          (None, 16, 104, 64)       18496     \n",
            "                                                                 \n",
            " leaky_re_lu_14 (LeakyReLU)  (None, 16, 104, 64)       0         \n",
            "                                                                 \n",
            " batch_normalization_14 (Bat  (None, 16, 104, 64)      256       \n",
            " chNormalization)                                                \n",
            "                                                                 \n",
            " conv2d_15 (Conv2D)          (None, 14, 102, 64)       36928     \n",
            "                                                                 \n",
            " leaky_re_lu_15 (LeakyReLU)  (None, 14, 102, 64)       0         \n",
            "                                                                 \n",
            " batch_normalization_15 (Bat  (None, 14, 102, 64)      256       \n",
            " chNormalization)                                                \n",
            "                                                                 \n",
            " global_average_pooling2d_3   (None, 64)               0         \n",
            " (GlobalAveragePooling2D)                                        \n",
            "                                                                 \n",
            " dense_3 (Dense)             (None, 2)                 130       \n",
            "                                                                 \n",
            "=================================================================\n",
            "Total params: 65,890\n",
            "Trainable params: 65,506\n",
            "Non-trainable params: 384\n",
            "_________________________________________________________________\n"
          ]
        }
      ]
    },
    {
      "cell_type": "code",
      "metadata": {
        "id": "sjCKJgWlnh_p",
        "outputId": "7069fed9-161b-4aab-a4e0-0770836162fa",
        "colab": {
          "base_uri": "https://localhost:8080/"
        }
      },
      "source": [
        "history = model.fit(X_train, \n",
        "                    y_train_encoded, \n",
        "                    batch_size=4, \n",
        "                    epochs=50, \n",
        "                    validation_data=(X_test,y_test_encoded),\n",
        "                    verbose=1)"
      ],
      "execution_count": null,
      "outputs": [
        {
          "output_type": "stream",
          "name": "stdout",
          "text": [
            "Epoch 1/50\n",
            "15/15 [==============================] - 1s 37ms/step - loss: 0.5808 - accuracy: 0.6833 - val_loss: 0.6729 - val_accuracy: 0.6000\n",
            "Epoch 2/50\n",
            "15/15 [==============================] - 0s 21ms/step - loss: 0.4851 - accuracy: 0.7667 - val_loss: 0.6834 - val_accuracy: 0.5500\n",
            "Epoch 3/50\n",
            "15/15 [==============================] - 0s 19ms/step - loss: 0.6913 - accuracy: 0.6167 - val_loss: 0.6401 - val_accuracy: 0.6000\n",
            "Epoch 4/50\n",
            "15/15 [==============================] - 0s 22ms/step - loss: 0.5751 - accuracy: 0.7333 - val_loss: 0.6292 - val_accuracy: 0.6500\n",
            "Epoch 5/50\n",
            "15/15 [==============================] - 0s 21ms/step - loss: 0.4552 - accuracy: 0.8333 - val_loss: 0.6213 - val_accuracy: 0.6000\n",
            "Epoch 6/50\n",
            "15/15 [==============================] - 0s 21ms/step - loss: 0.4711 - accuracy: 0.7833 - val_loss: 0.6283 - val_accuracy: 0.6500\n",
            "Epoch 7/50\n",
            "15/15 [==============================] - 0s 19ms/step - loss: 0.4922 - accuracy: 0.8000 - val_loss: 0.6218 - val_accuracy: 0.8000\n",
            "Epoch 8/50\n",
            "15/15 [==============================] - 0s 21ms/step - loss: 0.4999 - accuracy: 0.7333 - val_loss: 0.6958 - val_accuracy: 0.5000\n",
            "Epoch 9/50\n",
            "15/15 [==============================] - 0s 22ms/step - loss: 0.4142 - accuracy: 0.8333 - val_loss: 0.9638 - val_accuracy: 0.5000\n",
            "Epoch 10/50\n",
            "15/15 [==============================] - 0s 21ms/step - loss: 0.4997 - accuracy: 0.7833 - val_loss: 0.9467 - val_accuracy: 0.5000\n",
            "Epoch 11/50\n",
            "15/15 [==============================] - 0s 21ms/step - loss: 0.4471 - accuracy: 0.8000 - val_loss: 0.9215 - val_accuracy: 0.5000\n",
            "Epoch 12/50\n",
            "15/15 [==============================] - 0s 22ms/step - loss: 0.3639 - accuracy: 0.8833 - val_loss: 1.0955 - val_accuracy: 0.5000\n",
            "Epoch 13/50\n",
            "15/15 [==============================] - 0s 21ms/step - loss: 0.4467 - accuracy: 0.7833 - val_loss: 1.4220 - val_accuracy: 0.5000\n",
            "Epoch 14/50\n",
            "15/15 [==============================] - 0s 19ms/step - loss: 0.3836 - accuracy: 0.8167 - val_loss: 1.3627 - val_accuracy: 0.5000\n",
            "Epoch 15/50\n",
            "15/15 [==============================] - 0s 22ms/step - loss: 0.4409 - accuracy: 0.8167 - val_loss: 1.4982 - val_accuracy: 0.5000\n",
            "Epoch 16/50\n",
            "15/15 [==============================] - 0s 21ms/step - loss: 0.3847 - accuracy: 0.8667 - val_loss: 1.5508 - val_accuracy: 0.5000\n",
            "Epoch 17/50\n",
            "15/15 [==============================] - 0s 21ms/step - loss: 0.4509 - accuracy: 0.7667 - val_loss: 1.7877 - val_accuracy: 0.5000\n",
            "Epoch 18/50\n",
            "15/15 [==============================] - 0s 19ms/step - loss: 0.3911 - accuracy: 0.8667 - val_loss: 1.4661 - val_accuracy: 0.5000\n",
            "Epoch 19/50\n",
            "15/15 [==============================] - 0s 21ms/step - loss: 0.4155 - accuracy: 0.7833 - val_loss: 1.7057 - val_accuracy: 0.5000\n",
            "Epoch 20/50\n",
            "15/15 [==============================] - 0s 21ms/step - loss: 0.3841 - accuracy: 0.8167 - val_loss: 1.4569 - val_accuracy: 0.5000\n",
            "Epoch 21/50\n",
            "15/15 [==============================] - 0s 19ms/step - loss: 0.3656 - accuracy: 0.8500 - val_loss: 1.4357 - val_accuracy: 0.5000\n",
            "Epoch 22/50\n",
            "15/15 [==============================] - 0s 21ms/step - loss: 0.3197 - accuracy: 0.8500 - val_loss: 1.7411 - val_accuracy: 0.5000\n",
            "Epoch 23/50\n",
            "15/15 [==============================] - 0s 19ms/step - loss: 0.2558 - accuracy: 0.9000 - val_loss: 1.7602 - val_accuracy: 0.5000\n",
            "Epoch 24/50\n",
            "15/15 [==============================] - 0s 21ms/step - loss: 0.2463 - accuracy: 0.9000 - val_loss: 1.2605 - val_accuracy: 0.5000\n",
            "Epoch 25/50\n",
            "15/15 [==============================] - 0s 19ms/step - loss: 0.3363 - accuracy: 0.8833 - val_loss: 1.6812 - val_accuracy: 0.5000\n",
            "Epoch 26/50\n",
            "15/15 [==============================] - 0s 21ms/step - loss: 0.3243 - accuracy: 0.8667 - val_loss: 1.4264 - val_accuracy: 0.5000\n",
            "Epoch 27/50\n",
            "15/15 [==============================] - 0s 21ms/step - loss: 0.4650 - accuracy: 0.7500 - val_loss: 1.6816 - val_accuracy: 0.5000\n",
            "Epoch 28/50\n",
            "15/15 [==============================] - 0s 22ms/step - loss: 0.3339 - accuracy: 0.8667 - val_loss: 1.1472 - val_accuracy: 0.5000\n",
            "Epoch 29/50\n",
            "15/15 [==============================] - 0s 21ms/step - loss: 0.3253 - accuracy: 0.8667 - val_loss: 1.1251 - val_accuracy: 0.5000\n",
            "Epoch 30/50\n",
            "15/15 [==============================] - 0s 22ms/step - loss: 0.4691 - accuracy: 0.7167 - val_loss: 1.4116 - val_accuracy: 0.5000\n",
            "Epoch 31/50\n",
            "15/15 [==============================] - 0s 21ms/step - loss: 0.2717 - accuracy: 0.8667 - val_loss: 1.1255 - val_accuracy: 0.5500\n",
            "Epoch 32/50\n",
            "15/15 [==============================] - 0s 21ms/step - loss: 0.2588 - accuracy: 0.9000 - val_loss: 1.0587 - val_accuracy: 0.5000\n",
            "Epoch 33/50\n",
            "15/15 [==============================] - 0s 21ms/step - loss: 0.3394 - accuracy: 0.8333 - val_loss: 1.1530 - val_accuracy: 0.5000\n",
            "Epoch 34/50\n",
            "15/15 [==============================] - 0s 21ms/step - loss: 0.4258 - accuracy: 0.8167 - val_loss: 0.2595 - val_accuracy: 0.9500\n",
            "Epoch 35/50\n",
            "15/15 [==============================] - 0s 19ms/step - loss: 0.3136 - accuracy: 0.8333 - val_loss: 0.3606 - val_accuracy: 0.8000\n",
            "Epoch 36/50\n",
            "15/15 [==============================] - 0s 21ms/step - loss: 0.2642 - accuracy: 0.9167 - val_loss: 1.4163 - val_accuracy: 0.5000\n",
            "Epoch 37/50\n",
            "15/15 [==============================] - 0s 21ms/step - loss: 0.4314 - accuracy: 0.7667 - val_loss: 1.3718 - val_accuracy: 0.5500\n",
            "Epoch 38/50\n",
            "15/15 [==============================] - 0s 19ms/step - loss: 0.2637 - accuracy: 0.8833 - val_loss: 0.3371 - val_accuracy: 0.7500\n",
            "Epoch 39/50\n",
            "15/15 [==============================] - 0s 18ms/step - loss: 0.3295 - accuracy: 0.8500 - val_loss: 0.6713 - val_accuracy: 0.6000\n",
            "Epoch 40/50\n",
            "15/15 [==============================] - 0s 19ms/step - loss: 0.3258 - accuracy: 0.8833 - val_loss: 0.9363 - val_accuracy: 0.5500\n",
            "Epoch 41/50\n",
            "15/15 [==============================] - 0s 22ms/step - loss: 0.4043 - accuracy: 0.8000 - val_loss: 0.6510 - val_accuracy: 0.6000\n",
            "Epoch 42/50\n",
            "15/15 [==============================] - 0s 19ms/step - loss: 0.3576 - accuracy: 0.8167 - val_loss: 0.2352 - val_accuracy: 0.9000\n",
            "Epoch 43/50\n",
            "15/15 [==============================] - 0s 19ms/step - loss: 0.4384 - accuracy: 0.7833 - val_loss: 0.2094 - val_accuracy: 1.0000\n",
            "Epoch 44/50\n",
            "15/15 [==============================] - 0s 21ms/step - loss: 0.2236 - accuracy: 0.9500 - val_loss: 1.0229 - val_accuracy: 0.6000\n",
            "Epoch 45/50\n",
            "15/15 [==============================] - 0s 22ms/step - loss: 0.3872 - accuracy: 0.8333 - val_loss: 0.3472 - val_accuracy: 0.8000\n",
            "Epoch 46/50\n",
            "15/15 [==============================] - 0s 20ms/step - loss: 0.3078 - accuracy: 0.9167 - val_loss: 0.4266 - val_accuracy: 0.7500\n",
            "Epoch 47/50\n",
            "15/15 [==============================] - 0s 21ms/step - loss: 0.2580 - accuracy: 0.8667 - val_loss: 0.9434 - val_accuracy: 0.6000\n",
            "Epoch 48/50\n",
            "15/15 [==============================] - 0s 21ms/step - loss: 0.3630 - accuracy: 0.8333 - val_loss: 0.6579 - val_accuracy: 0.6000\n",
            "Epoch 49/50\n",
            "15/15 [==============================] - 0s 19ms/step - loss: 0.3183 - accuracy: 0.8667 - val_loss: 0.2714 - val_accuracy: 0.8500\n",
            "Epoch 50/50\n",
            "15/15 [==============================] - 0s 19ms/step - loss: 0.2230 - accuracy: 0.9667 - val_loss: 2.9015 - val_accuracy: 0.6000\n"
          ]
        }
      ]
    },
    {
      "cell_type": "code",
      "metadata": {
        "id": "PzPLrMBpnthJ",
        "outputId": "c076b986-7a81-44cf-e58d-ac372145d399",
        "colab": {
          "base_uri": "https://localhost:8080/",
          "height": 286
        }
      },
      "source": [
        "# Plots a confussion matrix\n",
        "def plot_confusion_matrix(cm,\n",
        "                          classes, \n",
        "                          normalized=False, \n",
        "                          title=None, \n",
        "                          cmap=plt.cm.Blues,\n",
        "                          size=(10,10)):\n",
        "    fig, ax = plt.subplots(figsize=size)\n",
        "    im = ax.imshow(cm, interpolation='nearest', cmap=cmap)\n",
        "    ax.figure.colorbar(im, ax=ax)\n",
        "\n",
        "    # We want to show all ticks...\n",
        "    ax.set(xticks=np.arange(cm.shape[1]),\n",
        "           yticks=np.arange(cm.shape[0]),\n",
        "           # ... and label them with the respective list entries\n",
        "           xticklabels=classes, yticklabels=classes,\n",
        "           title=title,\n",
        "           ylabel='True label',\n",
        "           xlabel='Predicted label')\n",
        "\n",
        "    # Rotate the tick labels and set their alignment.\n",
        "    plt.setp(ax.get_xticklabels(), rotation=45, ha=\"right\",\n",
        "             rotation_mode=\"anchor\")\n",
        "\n",
        "    # Loop over data dimensions and create text annotations.\n",
        "    fmt = '.2f' if normalized else 'd'\n",
        "    thresh = cm.max() / 2.\n",
        "    for i in range(cm.shape[0]):\n",
        "        for j in range(cm.shape[1]):\n",
        "            ax.text(j, i, format(cm[i, j], fmt),\n",
        "                    ha=\"center\", va=\"center\",\n",
        "                    color=\"white\" if cm[i, j] > thresh else \"black\")\n",
        "\n",
        "    fig.tight_layout()\n",
        "    plt.show()\n",
        "\n",
        "\n",
        "y_probs = model.predict(X_test, verbose=0)\n",
        "\n",
        "# Get predicted labels\n",
        "yhat_probs = np.argmax(y_probs, axis=1)\n",
        "y_trues = np.argmax(y_test_encoded, axis=1)\n",
        "\n",
        "\n",
        "# Sets decimal precision (for printing output only)\n",
        "np.set_printoptions(precision=2)\n",
        "\n",
        "# Compute confusion matrix data\n",
        "cm = confusion_matrix(y_trues, yhat_probs)\n",
        "\n",
        "\n",
        "\n",
        "plot_confusion_matrix(cm,\n",
        "                          ['snoring','breathing'], \n",
        "                          normalized=False, \n",
        "                          title=\"Model Performance\", \n",
        "                          cmap=plt.cm.Blues,\n",
        "                          size=(4,4))"
      ],
      "execution_count": null,
      "outputs": [
        {
          "output_type": "display_data",
          "data": {
            "image/png": "[encoded data removed]",
            "text/plain": [
              "<Figure size 288x288 with 2 Axes>"
            ]
          },
          "metadata": {
            "needs_background": "light"
          }
        }
      ]
    },
    {
      "cell_type": "code",
      "metadata": {
        "id": "YK0LVaVaqufg",
        "outputId": "171fea61-b3a2-4f1b-e7fb-9f4f925811c1",
        "colab": {
          "base_uri": "https://localhost:8080/"
        }
      },
      "source": [
        "re = classification_report(y_trues, yhat_probs, labels=[0,1], target_names=['snoring','breathing'])\n",
        "\n",
        "print(re)"
      ],
      "execution_count": null,
      "outputs": [
        {
          "output_type": "stream",
          "name": "stdout",
          "text": [
            "              precision    recall  f1-score   support\n",
            "\n",
            "     snoring       1.00      0.20      0.33        10\n",
            "   breathing       0.56      1.00      0.71        10\n",
            "\n",
            "    accuracy                           0.60        20\n",
            "   macro avg       0.78      0.60      0.52        20\n",
            "weighted avg       0.78      0.60      0.52        20\n",
            "\n"
          ]
        }
      ]
    },
    {
      "cell_type": "markdown",
      "source": [
        "Comparando CNN com SVC (o melhor modelo da etapa anterior):"
      ],
      "metadata": {
        "id": "Zoi17S2GAFAM"
      }
    },
    {
      "cell_type": "code",
      "source": [
        "print(ra1)"
      ],
      "metadata": {
        "colab": {
          "base_uri": "https://localhost:8080/"
        },
        "id": "_i752j65AJeS",
        "outputId": "41030da8-86f4-4c65-aee6-bbd397f9a930"
      },
      "execution_count": null,
      "outputs": [
        {
          "output_type": "stream",
          "name": "stdout",
          "text": [
            "              precision    recall  f1-score   support\n",
            "\n",
            "     snoring       0.75      1.00      0.86         9\n",
            "   breathing       1.00      0.73      0.84        11\n",
            "\n",
            "    accuracy                           0.85        20\n",
            "   macro avg       0.88      0.86      0.85        20\n",
            "weighted avg       0.89      0.85      0.85        20\n",
            "\n"
          ]
        }
      ]
    },
    {
      "cell_type": "markdown",
      "source": [
        "De modo geral o SVC obteve melhor desempenho que o CNN, mas ainda assim o resultado poderia ser muito melhor caso tivéssemos uma base maior e assim mais dados para treino."
      ],
      "metadata": {
        "id": "jNk20prL_mly"
      }
    },
    {
      "cell_type": "code",
      "metadata": {
        "id": "AQeO5p7bcL6M"
      },
      "source": [
        ""
      ],
      "execution_count": null,
      "outputs": []
    },
    {
      "cell_type": "markdown",
      "source": [
        "Coisas para refazer:  \n",
        "\n",
        "(Conjuntos de teste e treino deveriam ser os mesmos na CNN e no SVM e MLP. No SVM e MLP utilizei o train_test_split e na CNN fiz uma separação diferente.) Utilizar a separação feita na CNN, realizar o reshape e aplicar o SVM e MLP."
      ],
      "metadata": {
        "id": "QtWJpRsHfQDv"
      }
    },
    {
      "cell_type": "code",
      "source": [
        ""
      ],
      "metadata": {
        "id": "1HevXPk1fVW0"
      },
      "execution_count": null,
      "outputs": []
    }
  ]
}