{
  "nbformat": 4,
  "nbformat_minor": 0,
  "metadata": {
    "colab": {
      "name": "Atividade_4.ipynb",
      "provenance": [],
      "collapsed_sections": [],
      "toc_visible": true
    },
    "kernelspec": {
      "name": "python3",
      "display_name": "Python 3"
    },
    "accelerator": "GPU"
  },
  "cells": [
    {
      "cell_type": "markdown",
      "source": [
        "Aluno: Bruno Ricardo Pereira dos Santos Santos \n",
        "\n",
        "Nº USP: 10288640"
      ],
      "metadata": {
        "id": "hFotDtRiST4N"
      }
    },
    {
      "cell_type": "code",
      "metadata": {
        "id": "HsH8XysvhZeS"
      },
      "source": [
        "import sys\n",
        "import os\n",
        "import IPython\n",
        "import math\n",
        "import numpy as np\n",
        "import pandas as pd\n",
        "import pickle\n",
        "import matplotlib.pyplot as plt\n",
        "%matplotlib inline\n",
        "\n",
        "import random\n",
        "from datetime import datetime\n",
        "\n",
        "from keras import backend as keras_backend\n",
        "from keras.models import Sequential, load_model\n",
        "from keras.layers import Dense, Dropout, Flatten, LeakyReLU, SpatialDropout2D, Activation, Conv2D, MaxPooling2D, BatchNormalization, GlobalAveragePooling2D\n",
        "#from keras.optimizers import Adam\n",
        "from tensorflow.keras.optimizers import Adam\n",
        "#from tensorflow.keras.utils import np_utils, to_categorical, plot_model\n",
        "from tensorflow.keras.callbacks import ModelCheckpoint \n",
        "from tensorflow.keras.regularizers import l2\n",
        "\n",
        "from sklearn.preprocessing import LabelEncoder\n",
        "from sklearn.model_selection import train_test_split\n",
        "from sklearn.metrics import classification_report, precision_recall_fscore_support, confusion_matrix"
      ],
      "execution_count": 1,
      "outputs": []
    },
    {
      "cell_type": "code",
      "metadata": {
        "id": "jbIZR-h8ikUC",
        "outputId": "a57097a6-ffbd-4a00-83e2-052697388625",
        "colab": {
          "base_uri": "https://localhost:8080/"
        }
      },
      "source": [
        "!git clone https://github.com/karolpiczak/ESC-50"
      ],
      "execution_count": 2,
      "outputs": [
        {
          "output_type": "stream",
          "name": "stdout",
          "text": [
            "Cloning into 'ESC-50'...\n",
            "remote: Enumerating objects: 4163, done.\u001b[K\n",
            "remote: Counting objects: 100% (27/27), done.\u001b[K\n",
            "remote: Compressing objects: 100% (27/27), done.\u001b[K\n",
            "remote: Total 4163 (delta 16), reused 0 (delta 0), pack-reused 4136\u001b[K\n",
            "Receiving objects: 100% (4163/4163), 878.78 MiB | 11.88 MiB/s, done.\n",
            "Resolving deltas: 100% (263/263), done.\n",
            "Checking out files: 100% (2011/2011), done.\n"
          ]
        }
      ]
    },
    {
      "cell_type": "markdown",
      "source": [
        "# Problema\n",
        "\n",
        "Peguei dados da base acima e selecionei duas classes,  breathing e snoring. Achei interessante essas duas classes pois há vários aplicativos de celular para monitoramento de sono que indicam se a pessoa ronca ou não e quero verificar se esses apps conseguem realmente classificar corretamente. Sendo assim, importei os dados, os transformei e extraí padrões usando modelos de machine learning e CNN."
      ],
      "metadata": {
        "id": "kxMC02pw4FV_"
      }
    },
    {
      "cell_type": "markdown",
      "source": [
        "# Obtenção e processamento dos dados"
      ],
      "metadata": {
        "id": "k_DJ3AAT7BqI"
      }
    },
    {
      "cell_type": "code",
      "source": [
        "\n",
        "import pandas as pd\n",
        "legenda = pd.read_csv('ESC-50/meta/esc50.csv')\n",
        "\n",
        "legenda1 = legenda[legenda['category']=='breathing']\n",
        "legenda2 = legenda[legenda['category']=='snoring']\n",
        "\n",
        "b_wav_files = legenda1['filename']\n",
        "s_wav_files = legenda2['filename']\n",
        "\n",
        "legenda2.head()"
      ],
      "metadata": {
        "colab": {
          "base_uri": "https://localhost:8080/",
          "height": 206
        },
        "id": "ygdhkQ6WVLZm",
        "outputId": "dc149f02-51c9-4df1-fd6b-e83fba02871b"
      },
      "execution_count": 3,
      "outputs": [
        {
          "output_type": "execute_result",
          "data": {
            "text/plain": [
              "             filename  fold  target category  esc10  src_file take\n",
              "97   1-20545-A-28.wav     1      28  snoring  False     20545    A\n",
              "144  1-27403-A-28.wav     1      28  snoring  False     27403    A\n",
              "145  1-27405-A-28.wav     1      28  snoring  False     27405    A\n",
              "198  1-39937-A-28.wav     1      28  snoring  False     39937    A\n",
              "200  1-40621-A-28.wav     1      28  snoring  False     40621    A"
            ],
            "text/html": [
              "\n",
              "  <div id=\"df-42aaecb2-3570-4cb5-a858-0300e1731cca\">\n",
              "    <div class=\"colab-df-container\">\n",
              "      <div>\n",
              "<style scoped>\n",
              "    .dataframe tbody tr th:only-of-type {\n",
              "        vertical-align: middle;\n",
              "    }\n",
              "\n",
              "    .dataframe tbody tr th {\n",
              "        vertical-align: top;\n",
              "    }\n",
              "\n",
              "    .dataframe thead th {\n",
              "        text-align: right;\n",
              "    }\n",
              "</style>\n",
              "<table border=\"1\" class=\"dataframe\">\n",
              "  <thead>\n",
              "    <tr style=\"text-align: right;\">\n",
              "      <th></th>\n",
              "      <th>filename</th>\n",
              "      <th>fold</th>\n",
              "      <th>target</th>\n",
              "      <th>category</th>\n",
              "      <th>esc10</th>\n",
              "      <th>src_file</th>\n",
              "      <th>take</th>\n",
              "    </tr>\n",
              "  </thead>\n",
              "  <tbody>\n",
              "    <tr>\n",
              "      <th>97</th>\n",
              "      <td>1-20545-A-28.wav</td>\n",
              "      <td>1</td>\n",
              "      <td>28</td>\n",
              "      <td>snoring</td>\n",
              "      <td>False</td>\n",
              "      <td>20545</td>\n",
              "      <td>A</td>\n",
              "    </tr>\n",
              "    <tr>\n",
              "      <th>144</th>\n",
              "      <td>1-27403-A-28.wav</td>\n",
              "      <td>1</td>\n",
              "      <td>28</td>\n",
              "      <td>snoring</td>\n",
              "      <td>False</td>\n",
              "      <td>27403</td>\n",
              "      <td>A</td>\n",
              "    </tr>\n",
              "    <tr>\n",
              "      <th>145</th>\n",
              "      <td>1-27405-A-28.wav</td>\n",
              "      <td>1</td>\n",
              "      <td>28</td>\n",
              "      <td>snoring</td>\n",
              "      <td>False</td>\n",
              "      <td>27405</td>\n",
              "      <td>A</td>\n",
              "    </tr>\n",
              "    <tr>\n",
              "      <th>198</th>\n",
              "      <td>1-39937-A-28.wav</td>\n",
              "      <td>1</td>\n",
              "      <td>28</td>\n",
              "      <td>snoring</td>\n",
              "      <td>False</td>\n",
              "      <td>39937</td>\n",
              "      <td>A</td>\n",
              "    </tr>\n",
              "    <tr>\n",
              "      <th>200</th>\n",
              "      <td>1-40621-A-28.wav</td>\n",
              "      <td>1</td>\n",
              "      <td>28</td>\n",
              "      <td>snoring</td>\n",
              "      <td>False</td>\n",
              "      <td>40621</td>\n",
              "      <td>A</td>\n",
              "    </tr>\n",
              "  </tbody>\n",
              "</table>\n",
              "</div>\n",
              "      <button class=\"colab-df-convert\" onclick=\"convertToInteractive('df-42aaecb2-3570-4cb5-a858-0300e1731cca')\"\n",
              "              title=\"Convert this dataframe to an interactive table.\"\n",
              "              style=\"display:none;\">\n",
              "        \n",
              "  <svg xmlns=\"http://www.w3.org/2000/svg\" height=\"24px\"viewBox=\"0 0 24 24\"\n",
              "       width=\"24px\">\n",
              "    <path d=\"M0 0h24v24H0V0z\" fill=\"none\"/>\n",
              "    <path d=\"M18.56 5.44l.94 2.06.94-2.06 2.06-.94-2.06-.94-.94-2.06-.94 2.06-2.06.94zm-11 1L8.5 8.5l.94-2.06 2.06-.94-2.06-.94L8.5 2.5l-.94 2.06-2.06.94zm10 10l.94 2.06.94-2.06 2.06-.94-2.06-.94-.94-2.06-.94 2.06-2.06.94z\"/><path d=\"M17.41 7.96l-1.37-1.37c-.4-.4-.92-.59-1.43-.59-.52 0-1.04.2-1.43.59L10.3 9.45l-7.72 7.72c-.78.78-.78 2.05 0 2.83L4 21.41c.39.39.9.59 1.41.59.51 0 1.02-.2 1.41-.59l7.78-7.78 2.81-2.81c.8-.78.8-2.07 0-2.86zM5.41 20L4 18.59l7.72-7.72 1.47 1.35L5.41 20z\"/>\n",
              "  </svg>\n",
              "      </button>\n",
              "      \n",
              "  <style>\n",
              "    .colab-df-container {\n",
              "      display:flex;\n",
              "      flex-wrap:wrap;\n",
              "      gap: 12px;\n",
              "    }\n",
              "\n",
              "    .colab-df-convert {\n",
              "      background-color: #E8F0FE;\n",
              "      border: none;\n",
              "      border-radius: 50%;\n",
              "      cursor: pointer;\n",
              "      display: none;\n",
              "      fill: #1967D2;\n",
              "      height: 32px;\n",
              "      padding: 0 0 0 0;\n",
              "      width: 32px;\n",
              "    }\n",
              "\n",
              "    .colab-df-convert:hover {\n",
              "      background-color: #E2EBFA;\n",
              "      box-shadow: 0px 1px 2px rgba(60, 64, 67, 0.3), 0px 1px 3px 1px rgba(60, 64, 67, 0.15);\n",
              "      fill: #174EA6;\n",
              "    }\n",
              "\n",
              "    [theme=dark] .colab-df-convert {\n",
              "      background-color: #3B4455;\n",
              "      fill: #D2E3FC;\n",
              "    }\n",
              "\n",
              "    [theme=dark] .colab-df-convert:hover {\n",
              "      background-color: #434B5C;\n",
              "      box-shadow: 0px 1px 3px 1px rgba(0, 0, 0, 0.15);\n",
              "      filter: drop-shadow(0px 1px 2px rgba(0, 0, 0, 0.3));\n",
              "      fill: #FFFFFF;\n",
              "    }\n",
              "  </style>\n",
              "\n",
              "      <script>\n",
              "        const buttonEl =\n",
              "          document.querySelector('#df-42aaecb2-3570-4cb5-a858-0300e1731cca button.colab-df-convert');\n",
              "        buttonEl.style.display =\n",
              "          google.colab.kernel.accessAllowed ? 'block' : 'none';\n",
              "\n",
              "        async function convertToInteractive(key) {\n",
              "          const element = document.querySelector('#df-42aaecb2-3570-4cb5-a858-0300e1731cca');\n",
              "          const dataTable =\n",
              "            await google.colab.kernel.invokeFunction('convertToInteractive',\n",
              "                                                     [key], {});\n",
              "          if (!dataTable) return;\n",
              "\n",
              "          const docLinkHtml = 'Like what you see? Visit the ' +\n",
              "            '<a target=\"_blank\" href=https://colab.research.google.com/notebooks/data_table.ipynb>data table notebook</a>'\n",
              "            + ' to learn more about interactive tables.';\n",
              "          element.innerHTML = '';\n",
              "          dataTable['output_type'] = 'display_data';\n",
              "          await google.colab.output.renderOutput(dataTable, element);\n",
              "          const docLink = document.createElement('div');\n",
              "          docLink.innerHTML = docLinkHtml;\n",
              "          element.appendChild(docLink);\n",
              "        }\n",
              "      </script>\n",
              "    </div>\n",
              "  </div>\n",
              "  "
            ]
          },
          "metadata": {},
          "execution_count": 3
        }
      ]
    },
    {
      "cell_type": "code",
      "metadata": {
        "id": "kiQkTS5Ajdcg"
      },
      "source": [
        "#from os import listdir\n",
        "#from os.path import isfile, join\n",
        "#b_wav_files = [f for f in listdir('ESC-50/audio/') if f == '1-52323-A-24.wav']\n",
        "#c_wav_files = [f for f in listdir('ESC-50/audio/') if f in legenda2['filename']]\n",
        "b_wav_files "
      ],
      "execution_count": null,
      "outputs": []
    },
    {
      "cell_type": "code",
      "metadata": {
        "id": "_8aBmW5sk2Ui"
      },
      "source": [
        "import librosa\n",
        "\n",
        "def get_mel_spectrogram(file_path, max_padding=0, n_fft=2048, hop_length=512, n_mels=128):\n",
        "    try:\n",
        "        # Load audio file\n",
        "        y, sr = librosa.load(file_path)\n",
        "\n",
        "        # Normalize audio data between -1 and 1\n",
        "        normalized_y = librosa.util.normalize(y)\n",
        "\n",
        "        # Generate mel scaled filterbanks\n",
        "        mel = librosa.feature.melspectrogram(normalized_y, sr=sr, n_mels=n_mels)\n",
        "\n",
        "        # Convert sound intensity to log amplitude:\n",
        "        mel_db = librosa.amplitude_to_db(abs(mel))\n",
        "\n",
        "        # Normalize between -1 and 1\n",
        "        normalized_mel = librosa.util.normalize(mel_db)\n",
        "\n",
        "        # Should we require padding\n",
        "        shape = normalized_mel.shape[1]\n",
        "        if (max_padding > 0 & shape < max_padding):\n",
        "            xDiff = max_padding - shape\n",
        "            xLeft = xDiff//2\n",
        "            xRight = xDiff-xLeft\n",
        "            normalized_mel = np.pad(normalized_mel, pad_width=((0,0), (xLeft, xRight)), mode='constant')\n",
        "\n",
        "    except Exception as e:\n",
        "        print(\"Error parsing wavefile: \", e)\n",
        "        return None \n",
        "    return normalized_mel"
      ],
      "execution_count": 5,
      "outputs": []
    },
    {
      "cell_type": "code",
      "metadata": {
        "id": "rixVZuqBht1i"
      },
      "source": [
        "features = []\n",
        "labels = []\n",
        "frames_max = 0\n",
        "counter = 0\n",
        "total_samples = len(b_wav_files)+len(s_wav_files)\n",
        "n_mels=40\n",
        "\n",
        "\n",
        "for b_wav_file in b_wav_files:\n",
        "    file_path = 'ESC-50/audio/'+b_wav_file\n",
        "    class_label = 'breathing'\n",
        "\n",
        "    # Extract Log-Mel Spectrograms (do not add padding)\n",
        "    print(file_path)\n",
        "    mels = get_mel_spectrogram(file_path, 0, n_mels=n_mels)\n",
        "    \n",
        "    # Save current frame count\n",
        "    num_frames = mels.shape[1]\n",
        "    \n",
        "    # Add row (feature / label)\n",
        "    features.append(mels)\n",
        "    labels.append(class_label)\n",
        "\n",
        "    # Update frames maximum\n",
        "    if (num_frames > frames_max):\n",
        "        frames_max = num_frames\n",
        "\n",
        "for s_wav_file in s_wav_files:\n",
        "    file_path = 'ESC-50/audio/'+s_wav_file\n",
        "    class_label = 'snoring'\n",
        "\n",
        "    # Extract Log-Mel Spectrograms (do not add padding)\n",
        "    print(file_path)\n",
        "    mels = get_mel_spectrogram(file_path, 0, n_mels=n_mels)\n",
        "    \n",
        "    # Save current frame count\n",
        "    num_frames = mels.shape[1]\n",
        "    \n",
        "    # Add row (feature / label)\n",
        "    features.append(mels)\n",
        "    labels.append(class_label)\n",
        "\n",
        "    # Update frames maximum\n",
        "    if (num_frames > frames_max):\n",
        "        frames_max = num_frames"
      ],
      "execution_count": null,
      "outputs": []
    },
    {
      "cell_type": "code",
      "metadata": {
        "id": "oHSAUXt9ZQnO",
        "outputId": "8bae0ab5-d7dd-4fba-cb10-ff409955d4cc",
        "colab": {
          "base_uri": "https://localhost:8080/"
        }
      },
      "source": [
        "melspec = get_mel_spectrogram('ESC-50/audio/5-251489-A-24.wav')\n",
        "melspec.shape"
      ],
      "execution_count": 7,
      "outputs": [
        {
          "output_type": "execute_result",
          "data": {
            "text/plain": [
              "(128, 216)"
            ]
          },
          "metadata": {},
          "execution_count": 7
        }
      ]
    },
    {
      "cell_type": "code",
      "metadata": {
        "id": "GmvpRGzxZdo7",
        "outputId": "b61c2b02-0d69-4df8-a2d7-4e0f72963c5f",
        "colab": {
          "base_uri": "https://localhost:8080/"
        }
      },
      "source": [
        "melspec = get_mel_spectrogram('ESC-50/audio/5-251489-A-24.wav')\n",
        "melspec.shape"
      ],
      "execution_count": 8,
      "outputs": [
        {
          "output_type": "execute_result",
          "data": {
            "text/plain": [
              "(128, 216)"
            ]
          },
          "metadata": {},
          "execution_count": 8
        }
      ]
    },
    {
      "cell_type": "code",
      "metadata": {
        "id": "cEXXdJJ3kfuE"
      },
      "source": [
        "# Given an numpy array of features, zero-pads each ocurrence to max_padding\n",
        "def add_padding(features, max_padding=174):\n",
        "    padded = []\n",
        "\n",
        "    # Add padding\n",
        "    for i in range(len(features)):\n",
        "        px = features[i]\n",
        "        size = len(px[0])\n",
        "        # Add padding if required\n",
        "        if (size < max_padding):\n",
        "            xDiff = max_padding - size\n",
        "            xLeft = xDiff//2\n",
        "            xRight = xDiff-xLeft\n",
        "            px = np.pad(px, pad_width=((0,0), (xLeft, xRight)), mode='constant')\n",
        "        \n",
        "        padded.append(px)\n",
        "\n",
        "    return padded"
      ],
      "execution_count": 9,
      "outputs": []
    },
    {
      "cell_type": "code",
      "metadata": {
        "id": "G0-EKTYYlnNN"
      },
      "source": [
        "padded_features = add_padding(features, frames_max)"
      ],
      "execution_count": 10,
      "outputs": []
    },
    {
      "cell_type": "code",
      "metadata": {
        "id": "0iSn0NgClscv"
      },
      "source": [
        "X = np.array(padded_features)\n",
        "y = np.array(labels)"
      ],
      "execution_count": 11,
      "outputs": []
    },
    {
      "cell_type": "code",
      "metadata": {
        "id": "1S7NgvoOaIMf",
        "outputId": "3b151553-b0e5-4ee9-8f9e-d8dbdc4a7714",
        "colab": {
          "base_uri": "https://localhost:8080/"
        }
      },
      "source": [
        "X.shape"
      ],
      "execution_count": 12,
      "outputs": [
        {
          "output_type": "execute_result",
          "data": {
            "text/plain": [
              "(80, 40, 216)"
            ]
          },
          "metadata": {},
          "execution_count": 12
        }
      ]
    },
    {
      "cell_type": "markdown",
      "source": [
        "# SVC e MLP classifier"
      ],
      "metadata": {
        "id": "5djqeBd26G5O"
      }
    },
    {
      "cell_type": "code",
      "source": [
        "X_ = X.reshape(80,8640)\n"
      ],
      "metadata": {
        "id": "U0v44lNn1i4_"
      },
      "execution_count": 13,
      "outputs": []
    },
    {
      "cell_type": "code",
      "source": [
        "X_train, X_test, y_train, y_test = train_test_split(X_,y,test_size=0.25, random_state=42)"
      ],
      "metadata": {
        "id": "CkmvPAl_33XF"
      },
      "execution_count": 14,
      "outputs": []
    },
    {
      "cell_type": "code",
      "source": [
        "from sklearn.svm import SVC\n",
        "from sklearn.metrics import accuracy_score, precision_score, recall_score, f1_score\n",
        "\n",
        "clf = SVC(random_state=42).fit(X_train, y_train)\n",
        "clf.score(X_test, y_test)\n",
        "\n",
        "predictions_2 = list(clf.predict(X_test))\n",
        "\n",
        "print('Accuracy score: {}'.format(accuracy_score(y_test, predictions_2)))\n",
        "print('Precision score: {}'.format(precision_score(y_test, predictions_2,pos_label='breathing')))\n",
        "print('Recall score: {}'.format(recall_score(y_test, predictions_2,pos_label='breathing')))\n",
        "print('F1 score: {}'.format(f1_score(y_test, predictions_2,pos_label='breathing')))"
      ],
      "metadata": {
        "colab": {
          "base_uri": "https://localhost:8080/"
        },
        "id": "uhWrWvZa6V41",
        "outputId": "2f29a664-54ee-4d8e-9aae-d237b1188ae1"
      },
      "execution_count": 15,
      "outputs": [
        {
          "output_type": "stream",
          "name": "stdout",
          "text": [
            "Accuracy score: 0.85\n",
            "Precision score: 1.0\n",
            "Recall score: 0.7272727272727273\n",
            "F1 score: 0.8421052631578948\n"
          ]
        }
      ]
    },
    {
      "cell_type": "code",
      "source": [
        "print('Precision score: {}'.format(precision_score(y_test, predictions_2,pos_label='snoring')))\n",
        "print('Recall score: {}'.format(recall_score(y_test, predictions_2,pos_label='snoring')))\n",
        "print('F1 score: {}'.format(f1_score(y_test, predictions_2,pos_label='snoring')))"
      ],
      "metadata": {
        "colab": {
          "base_uri": "https://localhost:8080/"
        },
        "id": "zZUUkQMW_aX6",
        "outputId": "7e459114-6a02-400b-e314-e2ff48d264b8"
      },
      "execution_count": 16,
      "outputs": [
        {
          "output_type": "stream",
          "name": "stdout",
          "text": [
            "Precision score: 0.75\n",
            "Recall score: 1.0\n",
            "F1 score: 0.8571428571428571\n"
          ]
        }
      ]
    },
    {
      "cell_type": "code",
      "source": [
        "ra1 = classification_report(y_test, predictions_2, labels=['snoring','breathing'], target_names=['snoring','breathing'])\n",
        "\n",
        "print(ra1)"
      ],
      "metadata": {
        "colab": {
          "base_uri": "https://localhost:8080/"
        },
        "id": "Vk8igcRyAgBu",
        "outputId": "b999544f-ae93-4eb8-8a22-1070128630e6"
      },
      "execution_count": 17,
      "outputs": [
        {
          "output_type": "stream",
          "name": "stdout",
          "text": [
            "              precision    recall  f1-score   support\n",
            "\n",
            "     snoring       0.75      1.00      0.86         9\n",
            "   breathing       1.00      0.73      0.84        11\n",
            "\n",
            "    accuracy                           0.85        20\n",
            "   macro avg       0.88      0.86      0.85        20\n",
            "weighted avg       0.89      0.85      0.85        20\n",
            "\n"
          ]
        }
      ]
    },
    {
      "cell_type": "code",
      "source": [
        "from sklearn.neural_network import MLPClassifier\n",
        "\n",
        "clf = MLPClassifier(random_state=42, max_iter=300).fit(X_train, y_train)\n",
        "clf.score(X_test, y_test)\n",
        "\n",
        "predictions_1 = list(clf.predict(X_test))\n",
        "\n",
        "print('Accuracy score: {}'.format(accuracy_score(y_test, predictions_1)))\n",
        "print('Precision score: {}'.format(precision_score(y_test, predictions_1,pos_label='breathing')))\n",
        "print('Recall score: {}'.format(recall_score(y_test, predictions_1,pos_label='breathing')))\n",
        "print('F1 score: {}'.format(f1_score(y_test, predictions_1,pos_label='breathing')))"
      ],
      "metadata": {
        "colab": {
          "base_uri": "https://localhost:8080/"
        },
        "id": "t0Uq_Ugc6WFL",
        "outputId": "3860413c-6c84-41e7-8083-83babfe2d26a"
      },
      "execution_count": 18,
      "outputs": [
        {
          "output_type": "stream",
          "name": "stdout",
          "text": [
            "Accuracy score: 0.55\n",
            "Precision score: 0.5714285714285714\n",
            "Recall score: 0.7272727272727273\n",
            "F1 score: 0.64\n"
          ]
        }
      ]
    },
    {
      "cell_type": "code",
      "metadata": {
        "id": "KdC7NCGQaHO2",
        "colab": {
          "base_uri": "https://localhost:8080/"
        },
        "outputId": "edb1b7d6-d19c-41b7-bf71-dfda212efe77"
      },
      "source": [
        "print('Precision score: {}'.format(precision_score(y_test, predictions_1,pos_label='snoring')))\n",
        "print('Recall score: {}'.format(recall_score(y_test, predictions_1,pos_label='snoring')))\n",
        "print('F1 score: {}'.format(f1_score(y_test, predictions_1,pos_label='snoring')))"
      ],
      "execution_count": 19,
      "outputs": [
        {
          "output_type": "stream",
          "name": "stdout",
          "text": [
            "Precision score: 0.5\n",
            "Recall score: 0.3333333333333333\n",
            "F1 score: 0.4\n"
          ]
        }
      ]
    },
    {
      "cell_type": "code",
      "source": [
        "ra2 = classification_report(y_test, predictions_1, labels=['snoring','breathing'], target_names=['snoring','breathing'])\n",
        "\n",
        "print(ra2)"
      ],
      "metadata": {
        "colab": {
          "base_uri": "https://localhost:8080/"
        },
        "id": "yFPufOySAlgu",
        "outputId": "7c012b83-5c54-4f04-e4a3-ebc4a18a362b"
      },
      "execution_count": 20,
      "outputs": [
        {
          "output_type": "stream",
          "name": "stdout",
          "text": [
            "              precision    recall  f1-score   support\n",
            "\n",
            "     snoring       0.50      0.33      0.40         9\n",
            "   breathing       0.57      0.73      0.64        11\n",
            "\n",
            "    accuracy                           0.55        20\n",
            "   macro avg       0.54      0.53      0.52        20\n",
            "weighted avg       0.54      0.55      0.53        20\n",
            "\n"
          ]
        }
      ]
    },
    {
      "cell_type": "markdown",
      "source": [
        "# CNN"
      ],
      "metadata": {
        "id": "NkLMfE4J6r-S"
      }
    },
    {
      "cell_type": "code",
      "metadata": {
        "id": "FWgSBbFel0Gt"
      },
      "source": [
        "np.save(\"X-mel_spec\", X)\n",
        "np.save(\"y-mel_spec\", y)"
      ],
      "execution_count": 21,
      "outputs": []
    },
    {
      "cell_type": "code",
      "metadata": {
        "id": "ibcX4j0rmJjG",
        "outputId": "4eafad3d-392c-4063-b222-ac6ec189765f",
        "colab": {
          "base_uri": "https://localhost:8080/"
        }
      },
      "source": [
        "indexes = []\n",
        "total = total_samples\n",
        "indexes = list(range(0, total))\n",
        "\n",
        "# Randomize indexes\n",
        "random.shuffle(indexes)\n",
        "\n",
        "# Divide the indexes into Train and Test\n",
        "test_split_pct = 25                        # 30 dados de treino 10 de teste\n",
        "split_offset = math.floor(test_split_pct * total / 100)\n",
        "\n",
        "# Split the metadata\n",
        "test_split_idx = indexes[0:split_offset]\n",
        "train_split_idx = indexes[split_offset:total]\n",
        "\n",
        "\n",
        "# Split the features with the same indexes\n",
        "X_test = np.take(X, test_split_idx, axis=0)\n",
        "y_test = np.take(y, test_split_idx, axis=0)\n",
        "X_train = np.take(X, train_split_idx, axis=0)\n",
        "y_train = np.take(y, train_split_idx, axis=0)\n",
        "\n",
        "# Print status\n",
        "print(\"X test shape: {} \\t X train shape: {}\".format(X_test.shape, X_train.shape))\n",
        "print(\"y test shape: {} \\t\\t y train shape: {}\".format(y_test.shape, y_train.shape))"
      ],
      "execution_count": 22,
      "outputs": [
        {
          "output_type": "stream",
          "name": "stdout",
          "text": [
            "X test shape: (20, 40, 216) \t X train shape: (60, 40, 216)\n",
            "y test shape: (20,) \t\t y train shape: (60,)\n"
          ]
        }
      ]
    },
    {
      "cell_type": "code",
      "metadata": {
        "id": "XRNmk78GmrHw"
      },
      "source": [
        "from tensorflow.keras.utils import to_categorical\n",
        "le = LabelEncoder()\n",
        "y_test_encoded = to_categorical(le.fit_transform(y_test))\n",
        "y_train_encoded = to_categorical(le.fit_transform(y_train))"
      ],
      "execution_count": 23,
      "outputs": []
    },
    {
      "cell_type": "code",
      "metadata": {
        "id": "jzTVpoypaubK",
        "outputId": "42dd096f-f7b8-4555-d6bd-7f23bcb35eaf",
        "colab": {
          "base_uri": "https://localhost:8080/"
        }
      },
      "source": [
        "y_test_encoded"
      ],
      "execution_count": 24,
      "outputs": [
        {
          "output_type": "execute_result",
          "data": {
            "text/plain": [
              "array([[0., 1.],\n",
              "       [0., 1.],\n",
              "       [0., 1.],\n",
              "       [0., 1.],\n",
              "       [0., 1.],\n",
              "       [1., 0.],\n",
              "       [1., 0.],\n",
              "       [1., 0.],\n",
              "       [0., 1.],\n",
              "       [0., 1.],\n",
              "       [0., 1.],\n",
              "       [1., 0.],\n",
              "       [1., 0.],\n",
              "       [1., 0.],\n",
              "       [0., 1.],\n",
              "       [0., 1.],\n",
              "       [1., 0.],\n",
              "       [1., 0.],\n",
              "       [0., 1.],\n",
              "       [0., 1.]], dtype=float32)"
            ]
          },
          "metadata": {},
          "execution_count": 24
        }
      ]
    },
    {
      "cell_type": "code",
      "metadata": {
        "id": "aAjghJGKm25m"
      },
      "source": [
        "# How data should be structured\n",
        "num_rows = 40\n",
        "num_columns = 216\n",
        "num_channels = 1\n",
        "\n",
        "# Reshape to fit the network input (channel last)\n",
        "X_train = X_train.reshape(X_train.shape[0], num_rows, num_columns, num_channels)\n",
        "X_test = X_test.reshape(X_test.shape[0], num_rows, num_columns, num_channels)\n",
        "\n",
        "# Total number of labels to predict (equal to the network output nodes)\n",
        "num_labels = y_train_encoded.shape[1]"
      ],
      "execution_count": 25,
      "outputs": []
    },
    {
      "cell_type": "code",
      "metadata": {
        "id": "yhBtT6V2m8s3",
        "outputId": "e8a7b283-0c60-4dd9-dab9-997be49f3e8c",
        "colab": {
          "base_uri": "https://localhost:8080/"
        }
      },
      "source": [
        "X_train.shape"
      ],
      "execution_count": 26,
      "outputs": [
        {
          "output_type": "execute_result",
          "data": {
            "text/plain": [
              "(60, 40, 216, 1)"
            ]
          },
          "metadata": {},
          "execution_count": 26
        }
      ]
    },
    {
      "cell_type": "code",
      "metadata": {
        "id": "e-8t33v_nV5F"
      },
      "source": [
        "def create_model():\n",
        "\n",
        "    # Create a secquential object\n",
        "    model = Sequential()\n",
        "\n",
        "\n",
        "    # Conv 1\n",
        "    model.add(Conv2D(filters=32, \n",
        "                     kernel_size=(3, 3), \n",
        "                     input_shape=(num_rows, num_columns, num_channels)))\n",
        "    model.add(LeakyReLU(alpha=0.1))\n",
        "    model.add(BatchNormalization())\n",
        "\n",
        "    model.add(Conv2D(filters=32, \n",
        "                     kernel_size=(3, 3)))\n",
        "    model.add(LeakyReLU(alpha=0.1))\n",
        "    model.add(BatchNormalization())\n",
        "\n",
        "\n",
        "    # Max Pooling #1\n",
        "    model.add(MaxPooling2D(pool_size=(2, 2)))\n",
        "\n",
        "    model.add(Conv2D(filters=64, \n",
        "                     kernel_size=(3, 3)))\n",
        "    model.add(LeakyReLU(alpha=0.1))\n",
        "    model.add(BatchNormalization())\n",
        "\n",
        "    model.add(Conv2D(filters=64, \n",
        "                     kernel_size=(3,3)))\n",
        "    model.add(LeakyReLU(alpha=0.1))\n",
        "    model.add(BatchNormalization())\n",
        "    \n",
        "   \n",
        "    # Reduces each h×w feature map to a single number by taking the average of all h,w values.\n",
        "    model.add(GlobalAveragePooling2D())\n",
        "\n",
        "\n",
        "    # Softmax output\n",
        "    model.add(Dense(num_labels, activation='softmax'))\n",
        "    \n",
        "    return model\n",
        "\n",
        "\n",
        "model = create_model()"
      ],
      "execution_count": 27,
      "outputs": []
    },
    {
      "cell_type": "code",
      "metadata": {
        "id": "XcjBMi9uneKM",
        "outputId": "fe393b88-6a1a-427a-b1b7-37f96a36e678",
        "colab": {
          "base_uri": "https://localhost:8080/"
        }
      },
      "source": [
        "model.compile(\n",
        "    loss='binary_crossentropy',  # duas classes\n",
        "    metrics=['accuracy'],  \n",
        "    optimizer='adam')\n",
        "\n",
        "# Display model architecture summary \n",
        "model.summary()"
      ],
      "execution_count": 28,
      "outputs": [
        {
          "output_type": "stream",
          "name": "stdout",
          "text": [
            "Model: \"sequential\"\n",
            "_________________________________________________________________\n",
            " Layer (type)                Output Shape              Param #   \n",
            "=================================================================\n",
            " conv2d (Conv2D)             (None, 38, 214, 32)       320       \n",
            "                                                                 \n",
            " leaky_re_lu (LeakyReLU)     (None, 38, 214, 32)       0         \n",
            "                                                                 \n",
            " batch_normalization (BatchN  (None, 38, 214, 32)      128       \n",
            " ormalization)                                                   \n",
            "                                                                 \n",
            " conv2d_1 (Conv2D)           (None, 36, 212, 32)       9248      \n",
            "                                                                 \n",
            " leaky_re_lu_1 (LeakyReLU)   (None, 36, 212, 32)       0         \n",
            "                                                                 \n",
            " batch_normalization_1 (Batc  (None, 36, 212, 32)      128       \n",
            " hNormalization)                                                 \n",
            "                                                                 \n",
            " max_pooling2d (MaxPooling2D  (None, 18, 106, 32)      0         \n",
            " )                                                               \n",
            "                                                                 \n",
            " conv2d_2 (Conv2D)           (None, 16, 104, 64)       18496     \n",
            "                                                                 \n",
            " leaky_re_lu_2 (LeakyReLU)   (None, 16, 104, 64)       0         \n",
            "                                                                 \n",
            " batch_normalization_2 (Batc  (None, 16, 104, 64)      256       \n",
            " hNormalization)                                                 \n",
            "                                                                 \n",
            " conv2d_3 (Conv2D)           (None, 14, 102, 64)       36928     \n",
            "                                                                 \n",
            " leaky_re_lu_3 (LeakyReLU)   (None, 14, 102, 64)       0         \n",
            "                                                                 \n",
            " batch_normalization_3 (Batc  (None, 14, 102, 64)      256       \n",
            " hNormalization)                                                 \n",
            "                                                                 \n",
            " global_average_pooling2d (G  (None, 64)               0         \n",
            " lobalAveragePooling2D)                                          \n",
            "                                                                 \n",
            " dense (Dense)               (None, 2)                 130       \n",
            "                                                                 \n",
            "=================================================================\n",
            "Total params: 65,890\n",
            "Trainable params: 65,506\n",
            "Non-trainable params: 384\n",
            "_________________________________________________________________\n"
          ]
        }
      ]
    },
    {
      "cell_type": "code",
      "metadata": {
        "id": "sjCKJgWlnh_p",
        "outputId": "acc90c70-3df1-4d46-c95a-692507ee142b",
        "colab": {
          "base_uri": "https://localhost:8080/"
        }
      },
      "source": [
        "history = model.fit(X_train, \n",
        "                    y_train_encoded, \n",
        "                    batch_size=4, \n",
        "                    epochs=50, \n",
        "                    validation_data=(X_test,y_test_encoded),\n",
        "                    verbose=1)"
      ],
      "execution_count": 29,
      "outputs": [
        {
          "output_type": "stream",
          "name": "stdout",
          "text": [
            "Epoch 1/50\n",
            "15/15 [==============================] - 11s 32ms/step - loss: 0.5689 - accuracy: 0.7000 - val_loss: 0.6655 - val_accuracy: 0.6000\n",
            "Epoch 2/50\n",
            "15/15 [==============================] - 0s 13ms/step - loss: 0.4389 - accuracy: 0.8167 - val_loss: 0.6859 - val_accuracy: 0.6000\n",
            "Epoch 3/50\n",
            "15/15 [==============================] - 0s 13ms/step - loss: 0.4431 - accuracy: 0.8500 - val_loss: 0.6951 - val_accuracy: 0.6000\n",
            "Epoch 4/50\n",
            "15/15 [==============================] - 0s 13ms/step - loss: 0.5123 - accuracy: 0.7667 - val_loss: 0.6916 - val_accuracy: 0.6000\n",
            "Epoch 5/50\n",
            "15/15 [==============================] - 0s 13ms/step - loss: 0.4572 - accuracy: 0.7667 - val_loss: 0.7333 - val_accuracy: 0.6000\n",
            "Epoch 6/50\n",
            "15/15 [==============================] - 0s 13ms/step - loss: 0.3883 - accuracy: 0.8167 - val_loss: 0.6936 - val_accuracy: 0.6000\n",
            "Epoch 7/50\n",
            "15/15 [==============================] - 0s 13ms/step - loss: 0.3594 - accuracy: 0.8500 - val_loss: 0.6938 - val_accuracy: 0.6000\n",
            "Epoch 8/50\n",
            "15/15 [==============================] - 0s 13ms/step - loss: 0.4073 - accuracy: 0.9000 - val_loss: 0.7067 - val_accuracy: 0.5000\n",
            "Epoch 9/50\n",
            "15/15 [==============================] - 0s 13ms/step - loss: 0.3519 - accuracy: 0.8833 - val_loss: 0.7070 - val_accuracy: 0.6000\n",
            "Epoch 10/50\n",
            "15/15 [==============================] - 0s 12ms/step - loss: 0.4118 - accuracy: 0.8167 - val_loss: 0.7468 - val_accuracy: 0.2500\n",
            "Epoch 11/50\n",
            "15/15 [==============================] - 0s 13ms/step - loss: 0.3911 - accuracy: 0.8167 - val_loss: 0.7068 - val_accuracy: 0.5500\n",
            "Epoch 12/50\n",
            "15/15 [==============================] - 0s 12ms/step - loss: 0.4085 - accuracy: 0.8167 - val_loss: 0.6767 - val_accuracy: 0.6000\n",
            "Epoch 13/50\n",
            "15/15 [==============================] - 0s 13ms/step - loss: 0.3138 - accuracy: 0.9167 - val_loss: 1.0212 - val_accuracy: 0.6000\n",
            "Epoch 14/50\n",
            "15/15 [==============================] - 0s 12ms/step - loss: 0.3386 - accuracy: 0.8500 - val_loss: 0.9032 - val_accuracy: 0.1500\n",
            "Epoch 15/50\n",
            "15/15 [==============================] - 0s 12ms/step - loss: 0.3915 - accuracy: 0.8833 - val_loss: 0.9389 - val_accuracy: 0.3000\n",
            "Epoch 16/50\n",
            "15/15 [==============================] - 0s 13ms/step - loss: 0.3812 - accuracy: 0.8500 - val_loss: 0.8964 - val_accuracy: 0.3500\n",
            "Epoch 17/50\n",
            "15/15 [==============================] - 0s 13ms/step - loss: 0.3649 - accuracy: 0.8667 - val_loss: 0.8815 - val_accuracy: 0.3000\n",
            "Epoch 18/50\n",
            "15/15 [==============================] - 0s 13ms/step - loss: 0.4201 - accuracy: 0.8500 - val_loss: 0.8398 - val_accuracy: 0.4000\n",
            "Epoch 19/50\n",
            "15/15 [==============================] - 0s 13ms/step - loss: 0.4524 - accuracy: 0.7833 - val_loss: 0.8727 - val_accuracy: 0.3000\n",
            "Epoch 20/50\n",
            "15/15 [==============================] - 0s 12ms/step - loss: 0.3518 - accuracy: 0.8833 - val_loss: 0.7995 - val_accuracy: 0.4000\n",
            "Epoch 21/50\n",
            "15/15 [==============================] - 0s 12ms/step - loss: 0.3981 - accuracy: 0.7833 - val_loss: 0.8154 - val_accuracy: 0.3000\n",
            "Epoch 22/50\n",
            "15/15 [==============================] - 0s 12ms/step - loss: 0.3309 - accuracy: 0.9167 - val_loss: 0.6766 - val_accuracy: 0.6500\n",
            "Epoch 23/50\n",
            "15/15 [==============================] - 0s 12ms/step - loss: 0.3995 - accuracy: 0.8167 - val_loss: 0.7236 - val_accuracy: 0.4500\n",
            "Epoch 24/50\n",
            "15/15 [==============================] - 0s 12ms/step - loss: 0.3250 - accuracy: 0.8833 - val_loss: 0.7968 - val_accuracy: 0.4000\n",
            "Epoch 25/50\n",
            "15/15 [==============================] - 0s 12ms/step - loss: 0.4402 - accuracy: 0.7667 - val_loss: 0.6309 - val_accuracy: 0.6000\n",
            "Epoch 26/50\n",
            "15/15 [==============================] - 0s 12ms/step - loss: 0.2748 - accuracy: 0.8333 - val_loss: 0.5579 - val_accuracy: 0.9000\n",
            "Epoch 27/50\n",
            "15/15 [==============================] - 0s 12ms/step - loss: 0.3478 - accuracy: 0.8333 - val_loss: 0.7327 - val_accuracy: 0.5000\n",
            "Epoch 28/50\n",
            "15/15 [==============================] - 0s 13ms/step - loss: 0.2466 - accuracy: 0.9500 - val_loss: 0.5209 - val_accuracy: 0.8000\n",
            "Epoch 29/50\n",
            "15/15 [==============================] - 0s 12ms/step - loss: 0.2279 - accuracy: 0.9000 - val_loss: 0.5797 - val_accuracy: 0.7500\n",
            "Epoch 30/50\n",
            "15/15 [==============================] - 0s 12ms/step - loss: 0.3511 - accuracy: 0.8333 - val_loss: 0.6307 - val_accuracy: 0.6000\n",
            "Epoch 31/50\n",
            "15/15 [==============================] - 0s 12ms/step - loss: 0.2883 - accuracy: 0.8833 - val_loss: 0.9237 - val_accuracy: 0.4500\n",
            "Epoch 32/50\n",
            "15/15 [==============================] - 0s 12ms/step - loss: 0.2414 - accuracy: 0.9167 - val_loss: 0.6462 - val_accuracy: 0.6000\n",
            "Epoch 33/50\n",
            "15/15 [==============================] - 0s 13ms/step - loss: 0.2770 - accuracy: 0.8833 - val_loss: 0.5256 - val_accuracy: 0.7500\n",
            "Epoch 34/50\n",
            "15/15 [==============================] - 0s 12ms/step - loss: 0.3788 - accuracy: 0.8167 - val_loss: 1.0286 - val_accuracy: 0.4000\n",
            "Epoch 35/50\n",
            "15/15 [==============================] - 0s 12ms/step - loss: 0.4079 - accuracy: 0.8500 - val_loss: 0.4310 - val_accuracy: 0.8500\n",
            "Epoch 36/50\n",
            "15/15 [==============================] - 0s 12ms/step - loss: 0.2194 - accuracy: 0.9333 - val_loss: 0.4640 - val_accuracy: 0.8500\n",
            "Epoch 37/50\n",
            "15/15 [==============================] - 0s 12ms/step - loss: 0.2833 - accuracy: 0.9000 - val_loss: 0.4104 - val_accuracy: 0.9000\n",
            "Epoch 38/50\n",
            "15/15 [==============================] - 0s 12ms/step - loss: 0.4046 - accuracy: 0.8500 - val_loss: 0.5809 - val_accuracy: 0.6500\n",
            "Epoch 39/50\n",
            "15/15 [==============================] - 0s 12ms/step - loss: 0.2334 - accuracy: 0.9333 - val_loss: 0.3602 - val_accuracy: 0.8500\n",
            "Epoch 40/50\n",
            "15/15 [==============================] - 0s 12ms/step - loss: 0.2738 - accuracy: 0.8667 - val_loss: 0.3311 - val_accuracy: 0.9000\n",
            "Epoch 41/50\n",
            "15/15 [==============================] - 0s 13ms/step - loss: 0.1580 - accuracy: 0.9333 - val_loss: 0.3944 - val_accuracy: 0.8000\n",
            "Epoch 42/50\n",
            "15/15 [==============================] - 0s 12ms/step - loss: 0.2147 - accuracy: 0.9000 - val_loss: 0.4388 - val_accuracy: 0.8000\n",
            "Epoch 43/50\n",
            "15/15 [==============================] - 0s 12ms/step - loss: 0.2113 - accuracy: 0.9500 - val_loss: 0.3064 - val_accuracy: 0.9000\n",
            "Epoch 44/50\n",
            "15/15 [==============================] - 0s 13ms/step - loss: 0.2354 - accuracy: 0.9333 - val_loss: 0.3252 - val_accuracy: 0.8000\n",
            "Epoch 45/50\n",
            "15/15 [==============================] - 0s 12ms/step - loss: 0.3129 - accuracy: 0.8833 - val_loss: 0.9540 - val_accuracy: 0.6000\n",
            "Epoch 46/50\n",
            "15/15 [==============================] - 0s 12ms/step - loss: 0.2079 - accuracy: 0.9333 - val_loss: 1.5911 - val_accuracy: 0.6500\n",
            "Epoch 47/50\n",
            "15/15 [==============================] - 0s 13ms/step - loss: 0.2706 - accuracy: 0.9333 - val_loss: 0.4542 - val_accuracy: 0.7500\n",
            "Epoch 48/50\n",
            "15/15 [==============================] - 0s 12ms/step - loss: 0.3922 - accuracy: 0.8333 - val_loss: 0.8990 - val_accuracy: 0.6500\n",
            "Epoch 49/50\n",
            "15/15 [==============================] - 0s 13ms/step - loss: 0.2101 - accuracy: 0.9167 - val_loss: 0.3150 - val_accuracy: 0.9000\n",
            "Epoch 50/50\n",
            "15/15 [==============================] - 0s 12ms/step - loss: 0.3168 - accuracy: 0.8500 - val_loss: 0.7596 - val_accuracy: 0.5500\n"
          ]
        }
      ]
    },
    {
      "cell_type": "code",
      "metadata": {
        "id": "PzPLrMBpnthJ",
        "outputId": "2569916e-4067-48c2-b095-359866630fd0",
        "colab": {
          "base_uri": "https://localhost:8080/",
          "height": 286
        }
      },
      "source": [
        "# Plots a confussion matrix\n",
        "def plot_confusion_matrix(cm,\n",
        "                          classes, \n",
        "                          normalized=False, \n",
        "                          title=None, \n",
        "                          cmap=plt.cm.Blues,\n",
        "                          size=(10,10)):\n",
        "    fig, ax = plt.subplots(figsize=size)\n",
        "    im = ax.imshow(cm, interpolation='nearest', cmap=cmap)\n",
        "    ax.figure.colorbar(im, ax=ax)\n",
        "\n",
        "    # We want to show all ticks...\n",
        "    ax.set(xticks=np.arange(cm.shape[1]),\n",
        "           yticks=np.arange(cm.shape[0]),\n",
        "           # ... and label them with the respective list entries\n",
        "           xticklabels=classes, yticklabels=classes,\n",
        "           title=title,\n",
        "           ylabel='True label',\n",
        "           xlabel='Predicted label')\n",
        "\n",
        "    # Rotate the tick labels and set their alignment.\n",
        "    plt.setp(ax.get_xticklabels(), rotation=45, ha=\"right\",\n",
        "             rotation_mode=\"anchor\")\n",
        "\n",
        "    # Loop over data dimensions and create text annotations.\n",
        "    fmt = '.2f' if normalized else 'd'\n",
        "    thresh = cm.max() / 2.\n",
        "    for i in range(cm.shape[0]):\n",
        "        for j in range(cm.shape[1]):\n",
        "            ax.text(j, i, format(cm[i, j], fmt),\n",
        "                    ha=\"center\", va=\"center\",\n",
        "                    color=\"white\" if cm[i, j] > thresh else \"black\")\n",
        "\n",
        "    fig.tight_layout()\n",
        "    plt.show()\n",
        "\n",
        "\n",
        "y_probs = model.predict(X_test, verbose=0)\n",
        "\n",
        "# Get predicted labels\n",
        "yhat_probs = np.argmax(y_probs, axis=1)\n",
        "y_trues = np.argmax(y_test_encoded, axis=1)\n",
        "\n",
        "\n",
        "# Sets decimal precision (for printing output only)\n",
        "np.set_printoptions(precision=2)\n",
        "\n",
        "# Compute confusion matrix data\n",
        "cm = confusion_matrix(y_trues, yhat_probs)\n",
        "\n",
        "\n",
        "\n",
        "plot_confusion_matrix(cm,\n",
        "                          ['snoring','breathing'], \n",
        "                          normalized=False, \n",
        "                          title=\"Model Performance\", \n",
        "                          cmap=plt.cm.Blues,\n",
        "                          size=(4,4))"
      ],
      "execution_count": 30,
      "outputs": [
        {
          "output_type": "display_data",
          "data": {
            "text/plain": [
              "<Figure size 288x288 with 2 Axes>"
            ],
            "image/png": "[encoded data removed]"
          },
          "metadata": {
            "needs_background": "light"
          }
        }
      ]
    },
    {
      "cell_type": "code",
      "metadata": {
        "id": "YK0LVaVaqufg",
        "outputId": "0af49d1b-8338-4a59-d2ba-8a477acbaf83",
        "colab": {
          "base_uri": "https://localhost:8080/"
        }
      },
      "source": [
        "re = classification_report(y_trues, yhat_probs, labels=[0,1], target_names=['snoring','breathing'])\n",
        "\n",
        "print(re)"
      ],
      "execution_count": 31,
      "outputs": [
        {
          "output_type": "stream",
          "name": "stdout",
          "text": [
            "              precision    recall  f1-score   support\n",
            "\n",
            "     snoring       0.45      0.62      0.53         8\n",
            "   breathing       0.67      0.50      0.57        12\n",
            "\n",
            "    accuracy                           0.55        20\n",
            "   macro avg       0.56      0.56      0.55        20\n",
            "weighted avg       0.58      0.55      0.55        20\n",
            "\n"
          ]
        }
      ]
    },
    {
      "cell_type": "markdown",
      "source": [
        "Comparando CNN com SVC (o melhor modelo da etapa anterior):"
      ],
      "metadata": {
        "id": "Zoi17S2GAFAM"
      }
    },
    {
      "cell_type": "code",
      "source": [
        "print(ra1)"
      ],
      "metadata": {
        "colab": {
          "base_uri": "https://localhost:8080/"
        },
        "id": "_i752j65AJeS",
        "outputId": "a3248df8-bf62-48e2-fc6b-004ab6d4b349"
      },
      "execution_count": 32,
      "outputs": [
        {
          "output_type": "stream",
          "name": "stdout",
          "text": [
            "              precision    recall  f1-score   support\n",
            "\n",
            "     snoring       0.75      1.00      0.86         9\n",
            "   breathing       1.00      0.73      0.84        11\n",
            "\n",
            "    accuracy                           0.85        20\n",
            "   macro avg       0.88      0.86      0.85        20\n",
            "weighted avg       0.89      0.85      0.85        20\n",
            "\n"
          ]
        }
      ]
    },
    {
      "cell_type": "markdown",
      "source": [
        "De modo geral o SVC obteve melhor desempenho que o CNN, mas ainda assim o resultado poderia ser muito melhor caso tivéssemos uma base maior e assim mais dados para treino."
      ],
      "metadata": {
        "id": "jNk20prL_mly"
      }
    },
    {
      "cell_type": "code",
      "metadata": {
        "id": "AQeO5p7bcL6M"
      },
      "source": [
        ""
      ],
      "execution_count": 32,
      "outputs": []
    },
    {
      "cell_type": "markdown",
      "source": [
        "Coisas para refazer:  \n",
        "\n",
        "(Conjuntos de teste e treino deveriam ser os mesmos na CNN e no SVM e MLP. No SVM e MLP utilizei o train_test_split e na CNN fiz uma separação diferente.) Utilizar a separação feita na CNN, realizar o reshape e aplicar o SVM e MLP."
      ],
      "metadata": {
        "id": "QtWJpRsHfQDv"
      }
    },
    {
      "cell_type": "code",
      "source": [
        ""
      ],
      "metadata": {
        "id": "1HevXPk1fVW0"
      },
      "execution_count": 32,
      "outputs": []
    }
  ]
}